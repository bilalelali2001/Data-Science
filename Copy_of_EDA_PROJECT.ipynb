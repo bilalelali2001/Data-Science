{
  "cells": [
    {
      "cell_type": "markdown",
      "metadata": {
        "id": "KKG4Yi_kAO8u"
      },
      "source": [
        "## Bank Telemarketing Campaign Case Study."
      ]
    },
    {
      "cell_type": "markdown",
      "metadata": {
        "id": "2JKa6jF6AO8w"
      },
      "source": [
        "In this case study you’ll be learning Exploratory Data Analytics with the help of a case study on \"Bank marketing campaign\". This will enable you to understand why EDA is a most important step in the process of Machine Learning."
      ]
    },
    {
      "cell_type": "markdown",
      "metadata": {
        "id": "MBI5lNcbAO8x"
      },
      "source": [
        "#### Problem Statement:"
      ]
    },
    {
      "cell_type": "markdown",
      "metadata": {
        "id": "GsQOvTFBAO8y"
      },
      "source": [
        "\n",
        "\n",
        "The bank provides financial services/products such as savings accounts, current accounts, debit cards, etc. to its customers. In order to increase its overall revenue, the bank conducts various marketing campaigns for its financial products such as credit cards, term deposits, loans, etc. These campaigns are intended for the bank’s existing customers. However, the marketing campaigns need to be cost-efficient so that the bank not only increases their overall revenues but also the total profit. You need to apply your knowledge of EDA on the given dataset to analyse the patterns and provide inferences/solutions for the future marketing campaign.\n",
        "\n",
        "The bank conducted a telemarketing campaign for one of its financial products ‘Term Deposits’ to help foster long-term relationships with existing customers. The dataset contains information about all the customers who were contacted during a particular year to open term deposit accounts.\n",
        "\n",
        "\n",
        "**What is the term Deposit?**\n",
        "\n",
        "Term deposits also called fixed deposits, are the cash investments made for a specific time period ranging from 1 month to 5 years for predetermined fixed interest rates. The fixed interest rates offered for term deposits are higher than the regular interest rates for savings accounts. The customers receive the total amount (investment plus the interest) at the end of the maturity period. Also, the money can only be withdrawn at the end of the maturity period. Withdrawing money before that will result in an added penalty associated, and the customer will not receive any interest returns.\n",
        "\n",
        "Your target is to do end to end EDA on this bank telemarketing campaign data set to infer knowledge that where bank has to put more effort to improve it's positive response rate."
      ]
    },
    {
      "cell_type": "markdown",
      "metadata": {
        "id": "6aa_jd40AO8z"
      },
      "source": [
        "#### Importing the libraries."
      ]
    },
    {
      "cell_type": "code",
      "execution_count": null,
      "metadata": {
        "id": "1UI_FGtaAO80"
      },
      "outputs": [],
      "source": [
        "#import the warnings.\n"
      ]
    },
    {
      "cell_type": "code",
      "execution_count": null,
      "metadata": {
        "id": "vOOgORy2AO81"
      },
      "outputs": [],
      "source": [
        "#import the useful libraries.\n",
        "import pandas as pd\n",
        "import numpy as np\n",
        "import matplotlib.pyplot as plt\n",
        "import seaborn as sns\n",
        "import warnings"
      ]
    },
    {
      "cell_type": "markdown",
      "metadata": {
        "id": "utK08nDbAO82"
      },
      "source": [
        "## Session- 2, Data Cleaning"
      ]
    },
    {
      "cell_type": "markdown",
      "metadata": {
        "id": "-h2PDzJ0AO82"
      },
      "source": [
        "### Segment- 2, Data Types"
      ]
    },
    {
      "cell_type": "markdown",
      "metadata": {
        "id": "1GN12RaYAO82"
      },
      "source": [
        "There are multiple types of data types available in the data set. some of them are numerical type and some of categorical type. You are required to get the idea about the data types after reading the data frame.\n",
        "\n",
        "Following are the some of the types of variables:\n",
        "- **Numeric data type**: banking dataset: salary, balance, duration and age.\n",
        "- **Categorical data type**: banking dataset: education, job, marital, poutcome and month etc.\n",
        "- **Ordinal data type**: banking dataset: Age group.\n",
        "- **Time and date type**\n",
        "- **Coordinates type of data**: latitude and longitude type.\n"
      ]
    },
    {
      "cell_type": "markdown",
      "metadata": {
        "id": "ynUhxDNKAO82"
      },
      "source": [
        "#### Read in the Data set."
      ]
    },
    {
      "cell_type": "code",
      "execution_count": null,
      "metadata": {
        "id": "yleLFQu5AO83"
      },
      "outputs": [],
      "source": [
        "#read the data set of \"bank telemarketing campaign\" in inp0.\n",
        "csv_path = '/content/bankdata.csv'\n",
        "\n",
        "inp0= pd.read_csv(csv_path, dtype=str)"
      ]
    },
    {
      "cell_type": "code",
      "execution_count": null,
      "metadata": {
        "colab": {
          "base_uri": "https://localhost:8080/",
          "height": 365
        },
        "id": "0LpCvCCaAO83",
        "outputId": "a74e9247-5311-48ce-aa7c-cb9b8d7cc8d3"
      },
      "outputs": [
        {
          "output_type": "execute_result",
          "data": {
            "text/plain": [
              "      banking marketing Unnamed: 1                    Unnamed: 2 Unnamed: 3  \\\n",
              "0  customer id and age.        NaN  Customer salary and balance.        NaN   \n",
              "1            customerid        age                        salary    balance   \n",
              "2                     1         58                        100000       2143   \n",
              "3                     2         44                         60000         29   \n",
              "4                     3         33                        120000          2   \n",
              "\n",
              "                                          Unnamed: 4              Unnamed: 5  \\\n",
              "0  Customer marital status and job with education...                     NaN   \n",
              "1                                            marital                  jobedu   \n",
              "2                                            married     management,tertiary   \n",
              "3                                             single    technician,secondary   \n",
              "4                                            married  entrepreneur,secondary   \n",
              "\n",
              "                                   Unnamed: 6 Unnamed: 7  \\\n",
              "0  particular customer before targeted or not        NaN   \n",
              "1                                    targeted    default   \n",
              "2                                         yes         no   \n",
              "3                                         yes         no   \n",
              "4                                         yes         no   \n",
              "\n",
              "                           Unnamed: 8 Unnamed: 9   Unnamed: 10 Unnamed: 11  \\\n",
              "0  Loan types: loans or housing loans        NaN  Contact type         NaN   \n",
              "1                             housing       loan       contact         day   \n",
              "2                                 yes         no       unknown           5   \n",
              "3                                 yes         no       unknown           5   \n",
              "4                                 yes        yes       unknown           5   \n",
              "\n",
              "        Unnamed: 12       Unnamed: 13 Unnamed: 14 Unnamed: 15 Unnamed: 16  \\\n",
              "0  month of contact  duration of call         NaN         NaN         NaN   \n",
              "1             month          duration    campaign       pdays    previous   \n",
              "2         may, 2017           261 sec           1          -1           0   \n",
              "3         may, 2017           151 sec           1          -1           0   \n",
              "4         may, 2017            76 sec           1          -1           0   \n",
              "\n",
              "                   Unnamed: 17                              Unnamed: 18  \n",
              "0  outcome of previous contact  response of customer after call happned  \n",
              "1                     poutcome                                 response  \n",
              "2                      unknown                                       no  \n",
              "3                      unknown                                       no  \n",
              "4                      unknown                                       no  "
            ],
            "text/html": [
              "\n",
              "  <div id=\"df-9e09f991-e4f7-4194-b9df-12b744ddc288\" class=\"colab-df-container\">\n",
              "    <div>\n",
              "<style scoped>\n",
              "    .dataframe tbody tr th:only-of-type {\n",
              "        vertical-align: middle;\n",
              "    }\n",
              "\n",
              "    .dataframe tbody tr th {\n",
              "        vertical-align: top;\n",
              "    }\n",
              "\n",
              "    .dataframe thead th {\n",
              "        text-align: right;\n",
              "    }\n",
              "</style>\n",
              "<table border=\"1\" class=\"dataframe\">\n",
              "  <thead>\n",
              "    <tr style=\"text-align: right;\">\n",
              "      <th></th>\n",
              "      <th>banking marketing</th>\n",
              "      <th>Unnamed: 1</th>\n",
              "      <th>Unnamed: 2</th>\n",
              "      <th>Unnamed: 3</th>\n",
              "      <th>Unnamed: 4</th>\n",
              "      <th>Unnamed: 5</th>\n",
              "      <th>Unnamed: 6</th>\n",
              "      <th>Unnamed: 7</th>\n",
              "      <th>Unnamed: 8</th>\n",
              "      <th>Unnamed: 9</th>\n",
              "      <th>Unnamed: 10</th>\n",
              "      <th>Unnamed: 11</th>\n",
              "      <th>Unnamed: 12</th>\n",
              "      <th>Unnamed: 13</th>\n",
              "      <th>Unnamed: 14</th>\n",
              "      <th>Unnamed: 15</th>\n",
              "      <th>Unnamed: 16</th>\n",
              "      <th>Unnamed: 17</th>\n",
              "      <th>Unnamed: 18</th>\n",
              "    </tr>\n",
              "  </thead>\n",
              "  <tbody>\n",
              "    <tr>\n",
              "      <th>0</th>\n",
              "      <td>customer id and age.</td>\n",
              "      <td>NaN</td>\n",
              "      <td>Customer salary and balance.</td>\n",
              "      <td>NaN</td>\n",
              "      <td>Customer marital status and job with education...</td>\n",
              "      <td>NaN</td>\n",
              "      <td>particular customer before targeted or not</td>\n",
              "      <td>NaN</td>\n",
              "      <td>Loan types: loans or housing loans</td>\n",
              "      <td>NaN</td>\n",
              "      <td>Contact type</td>\n",
              "      <td>NaN</td>\n",
              "      <td>month of contact</td>\n",
              "      <td>duration of call</td>\n",
              "      <td>NaN</td>\n",
              "      <td>NaN</td>\n",
              "      <td>NaN</td>\n",
              "      <td>outcome of previous contact</td>\n",
              "      <td>response of customer after call happned</td>\n",
              "    </tr>\n",
              "    <tr>\n",
              "      <th>1</th>\n",
              "      <td>customerid</td>\n",
              "      <td>age</td>\n",
              "      <td>salary</td>\n",
              "      <td>balance</td>\n",
              "      <td>marital</td>\n",
              "      <td>jobedu</td>\n",
              "      <td>targeted</td>\n",
              "      <td>default</td>\n",
              "      <td>housing</td>\n",
              "      <td>loan</td>\n",
              "      <td>contact</td>\n",
              "      <td>day</td>\n",
              "      <td>month</td>\n",
              "      <td>duration</td>\n",
              "      <td>campaign</td>\n",
              "      <td>pdays</td>\n",
              "      <td>previous</td>\n",
              "      <td>poutcome</td>\n",
              "      <td>response</td>\n",
              "    </tr>\n",
              "    <tr>\n",
              "      <th>2</th>\n",
              "      <td>1</td>\n",
              "      <td>58</td>\n",
              "      <td>100000</td>\n",
              "      <td>2143</td>\n",
              "      <td>married</td>\n",
              "      <td>management,tertiary</td>\n",
              "      <td>yes</td>\n",
              "      <td>no</td>\n",
              "      <td>yes</td>\n",
              "      <td>no</td>\n",
              "      <td>unknown</td>\n",
              "      <td>5</td>\n",
              "      <td>may, 2017</td>\n",
              "      <td>261 sec</td>\n",
              "      <td>1</td>\n",
              "      <td>-1</td>\n",
              "      <td>0</td>\n",
              "      <td>unknown</td>\n",
              "      <td>no</td>\n",
              "    </tr>\n",
              "    <tr>\n",
              "      <th>3</th>\n",
              "      <td>2</td>\n",
              "      <td>44</td>\n",
              "      <td>60000</td>\n",
              "      <td>29</td>\n",
              "      <td>single</td>\n",
              "      <td>technician,secondary</td>\n",
              "      <td>yes</td>\n",
              "      <td>no</td>\n",
              "      <td>yes</td>\n",
              "      <td>no</td>\n",
              "      <td>unknown</td>\n",
              "      <td>5</td>\n",
              "      <td>may, 2017</td>\n",
              "      <td>151 sec</td>\n",
              "      <td>1</td>\n",
              "      <td>-1</td>\n",
              "      <td>0</td>\n",
              "      <td>unknown</td>\n",
              "      <td>no</td>\n",
              "    </tr>\n",
              "    <tr>\n",
              "      <th>4</th>\n",
              "      <td>3</td>\n",
              "      <td>33</td>\n",
              "      <td>120000</td>\n",
              "      <td>2</td>\n",
              "      <td>married</td>\n",
              "      <td>entrepreneur,secondary</td>\n",
              "      <td>yes</td>\n",
              "      <td>no</td>\n",
              "      <td>yes</td>\n",
              "      <td>yes</td>\n",
              "      <td>unknown</td>\n",
              "      <td>5</td>\n",
              "      <td>may, 2017</td>\n",
              "      <td>76 sec</td>\n",
              "      <td>1</td>\n",
              "      <td>-1</td>\n",
              "      <td>0</td>\n",
              "      <td>unknown</td>\n",
              "      <td>no</td>\n",
              "    </tr>\n",
              "  </tbody>\n",
              "</table>\n",
              "</div>\n",
              "    <div class=\"colab-df-buttons\">\n",
              "\n",
              "  <div class=\"colab-df-container\">\n",
              "    <button class=\"colab-df-convert\" onclick=\"convertToInteractive('df-9e09f991-e4f7-4194-b9df-12b744ddc288')\"\n",
              "            title=\"Convert this dataframe to an interactive table.\"\n",
              "            style=\"display:none;\">\n",
              "\n",
              "  <svg xmlns=\"http://www.w3.org/2000/svg\" height=\"24px\" viewBox=\"0 -960 960 960\">\n",
              "    <path d=\"M120-120v-720h720v720H120Zm60-500h600v-160H180v160Zm220 220h160v-160H400v160Zm0 220h160v-160H400v160ZM180-400h160v-160H180v160Zm440 0h160v-160H620v160ZM180-180h160v-160H180v160Zm440 0h160v-160H620v160Z\"/>\n",
              "  </svg>\n",
              "    </button>\n",
              "\n",
              "  <style>\n",
              "    .colab-df-container {\n",
              "      display:flex;\n",
              "      gap: 12px;\n",
              "    }\n",
              "\n",
              "    .colab-df-convert {\n",
              "      background-color: #E8F0FE;\n",
              "      border: none;\n",
              "      border-radius: 50%;\n",
              "      cursor: pointer;\n",
              "      display: none;\n",
              "      fill: #1967D2;\n",
              "      height: 32px;\n",
              "      padding: 0 0 0 0;\n",
              "      width: 32px;\n",
              "    }\n",
              "\n",
              "    .colab-df-convert:hover {\n",
              "      background-color: #E2EBFA;\n",
              "      box-shadow: 0px 1px 2px rgba(60, 64, 67, 0.3), 0px 1px 3px 1px rgba(60, 64, 67, 0.15);\n",
              "      fill: #174EA6;\n",
              "    }\n",
              "\n",
              "    .colab-df-buttons div {\n",
              "      margin-bottom: 4px;\n",
              "    }\n",
              "\n",
              "    [theme=dark] .colab-df-convert {\n",
              "      background-color: #3B4455;\n",
              "      fill: #D2E3FC;\n",
              "    }\n",
              "\n",
              "    [theme=dark] .colab-df-convert:hover {\n",
              "      background-color: #434B5C;\n",
              "      box-shadow: 0px 1px 3px 1px rgba(0, 0, 0, 0.15);\n",
              "      filter: drop-shadow(0px 1px 2px rgba(0, 0, 0, 0.3));\n",
              "      fill: #FFFFFF;\n",
              "    }\n",
              "  </style>\n",
              "\n",
              "    <script>\n",
              "      const buttonEl =\n",
              "        document.querySelector('#df-9e09f991-e4f7-4194-b9df-12b744ddc288 button.colab-df-convert');\n",
              "      buttonEl.style.display =\n",
              "        google.colab.kernel.accessAllowed ? 'block' : 'none';\n",
              "\n",
              "      async function convertToInteractive(key) {\n",
              "        const element = document.querySelector('#df-9e09f991-e4f7-4194-b9df-12b744ddc288');\n",
              "        const dataTable =\n",
              "          await google.colab.kernel.invokeFunction('convertToInteractive',\n",
              "                                                    [key], {});\n",
              "        if (!dataTable) return;\n",
              "\n",
              "        const docLinkHtml = 'Like what you see? Visit the ' +\n",
              "          '<a target=\"_blank\" href=https://colab.research.google.com/notebooks/data_table.ipynb>data table notebook</a>'\n",
              "          + ' to learn more about interactive tables.';\n",
              "        element.innerHTML = '';\n",
              "        dataTable['output_type'] = 'display_data';\n",
              "        await google.colab.output.renderOutput(dataTable, element);\n",
              "        const docLink = document.createElement('div');\n",
              "        docLink.innerHTML = docLinkHtml;\n",
              "        element.appendChild(docLink);\n",
              "      }\n",
              "    </script>\n",
              "  </div>\n",
              "\n",
              "\n",
              "<div id=\"df-640d44ae-66a9-4158-80b6-f5980b6fe7e0\">\n",
              "  <button class=\"colab-df-quickchart\" onclick=\"quickchart('df-640d44ae-66a9-4158-80b6-f5980b6fe7e0')\"\n",
              "            title=\"Suggest charts\"\n",
              "            style=\"display:none;\">\n",
              "\n",
              "<svg xmlns=\"http://www.w3.org/2000/svg\" height=\"24px\"viewBox=\"0 0 24 24\"\n",
              "     width=\"24px\">\n",
              "    <g>\n",
              "        <path d=\"M19 3H5c-1.1 0-2 .9-2 2v14c0 1.1.9 2 2 2h14c1.1 0 2-.9 2-2V5c0-1.1-.9-2-2-2zM9 17H7v-7h2v7zm4 0h-2V7h2v10zm4 0h-2v-4h2v4z\"/>\n",
              "    </g>\n",
              "</svg>\n",
              "  </button>\n",
              "\n",
              "<style>\n",
              "  .colab-df-quickchart {\n",
              "      --bg-color: #E8F0FE;\n",
              "      --fill-color: #1967D2;\n",
              "      --hover-bg-color: #E2EBFA;\n",
              "      --hover-fill-color: #174EA6;\n",
              "      --disabled-fill-color: #AAA;\n",
              "      --disabled-bg-color: #DDD;\n",
              "  }\n",
              "\n",
              "  [theme=dark] .colab-df-quickchart {\n",
              "      --bg-color: #3B4455;\n",
              "      --fill-color: #D2E3FC;\n",
              "      --hover-bg-color: #434B5C;\n",
              "      --hover-fill-color: #FFFFFF;\n",
              "      --disabled-bg-color: #3B4455;\n",
              "      --disabled-fill-color: #666;\n",
              "  }\n",
              "\n",
              "  .colab-df-quickchart {\n",
              "    background-color: var(--bg-color);\n",
              "    border: none;\n",
              "    border-radius: 50%;\n",
              "    cursor: pointer;\n",
              "    display: none;\n",
              "    fill: var(--fill-color);\n",
              "    height: 32px;\n",
              "    padding: 0;\n",
              "    width: 32px;\n",
              "  }\n",
              "\n",
              "  .colab-df-quickchart:hover {\n",
              "    background-color: var(--hover-bg-color);\n",
              "    box-shadow: 0 1px 2px rgba(60, 64, 67, 0.3), 0 1px 3px 1px rgba(60, 64, 67, 0.15);\n",
              "    fill: var(--button-hover-fill-color);\n",
              "  }\n",
              "\n",
              "  .colab-df-quickchart-complete:disabled,\n",
              "  .colab-df-quickchart-complete:disabled:hover {\n",
              "    background-color: var(--disabled-bg-color);\n",
              "    fill: var(--disabled-fill-color);\n",
              "    box-shadow: none;\n",
              "  }\n",
              "\n",
              "  .colab-df-spinner {\n",
              "    border: 2px solid var(--fill-color);\n",
              "    border-color: transparent;\n",
              "    border-bottom-color: var(--fill-color);\n",
              "    animation:\n",
              "      spin 1s steps(1) infinite;\n",
              "  }\n",
              "\n",
              "  @keyframes spin {\n",
              "    0% {\n",
              "      border-color: transparent;\n",
              "      border-bottom-color: var(--fill-color);\n",
              "      border-left-color: var(--fill-color);\n",
              "    }\n",
              "    20% {\n",
              "      border-color: transparent;\n",
              "      border-left-color: var(--fill-color);\n",
              "      border-top-color: var(--fill-color);\n",
              "    }\n",
              "    30% {\n",
              "      border-color: transparent;\n",
              "      border-left-color: var(--fill-color);\n",
              "      border-top-color: var(--fill-color);\n",
              "      border-right-color: var(--fill-color);\n",
              "    }\n",
              "    40% {\n",
              "      border-color: transparent;\n",
              "      border-right-color: var(--fill-color);\n",
              "      border-top-color: var(--fill-color);\n",
              "    }\n",
              "    60% {\n",
              "      border-color: transparent;\n",
              "      border-right-color: var(--fill-color);\n",
              "    }\n",
              "    80% {\n",
              "      border-color: transparent;\n",
              "      border-right-color: var(--fill-color);\n",
              "      border-bottom-color: var(--fill-color);\n",
              "    }\n",
              "    90% {\n",
              "      border-color: transparent;\n",
              "      border-bottom-color: var(--fill-color);\n",
              "    }\n",
              "  }\n",
              "</style>\n",
              "\n",
              "  <script>\n",
              "    async function quickchart(key) {\n",
              "      const quickchartButtonEl =\n",
              "        document.querySelector('#' + key + ' button');\n",
              "      quickchartButtonEl.disabled = true;  // To prevent multiple clicks.\n",
              "      quickchartButtonEl.classList.add('colab-df-spinner');\n",
              "      try {\n",
              "        const charts = await google.colab.kernel.invokeFunction(\n",
              "            'suggestCharts', [key], {});\n",
              "      } catch (error) {\n",
              "        console.error('Error during call to suggestCharts:', error);\n",
              "      }\n",
              "      quickchartButtonEl.classList.remove('colab-df-spinner');\n",
              "      quickchartButtonEl.classList.add('colab-df-quickchart-complete');\n",
              "    }\n",
              "    (() => {\n",
              "      let quickchartButtonEl =\n",
              "        document.querySelector('#df-640d44ae-66a9-4158-80b6-f5980b6fe7e0 button');\n",
              "      quickchartButtonEl.style.display =\n",
              "        google.colab.kernel.accessAllowed ? 'block' : 'none';\n",
              "    })();\n",
              "  </script>\n",
              "</div>\n",
              "    </div>\n",
              "  </div>\n"
            ],
            "application/vnd.google.colaboratory.intrinsic+json": {
              "type": "dataframe",
              "variable_name": "inp0",
              "summary": "{\n  \"name\": \"inp0\",\n  \"rows\": 45213,\n  \"fields\": [\n    {\n      \"column\": \"banking marketing\",\n      \"properties\": {\n        \"dtype\": \"string\",\n        \"num_unique_values\": 45213,\n        \"samples\": [\n          \"3775\",\n          \"9927\",\n          \"33408\"\n        ],\n        \"semantic_type\": \"\",\n        \"description\": \"\"\n      }\n    },\n    {\n      \"column\": \"Unnamed: 1\",\n      \"properties\": {\n        \"dtype\": \"category\",\n        \"num_unique_values\": 78,\n        \"samples\": [\n          \"31\",\n          \"age\",\n          \"30\"\n        ],\n        \"semantic_type\": \"\",\n        \"description\": \"\"\n      }\n    },\n    {\n      \"column\": \"Unnamed: 2\",\n      \"properties\": {\n        \"dtype\": \"category\",\n        \"num_unique_values\": 13,\n        \"samples\": [\n          \"16000\",\n          \"70000\",\n          \"Customer salary and balance.\"\n        ],\n        \"semantic_type\": \"\",\n        \"description\": \"\"\n      }\n    },\n    {\n      \"column\": \"Unnamed: 3\",\n      \"properties\": {\n        \"dtype\": \"category\",\n        \"num_unique_values\": 7169,\n        \"samples\": [\n          \"19317\",\n          \"201\",\n          \"5312\"\n        ],\n        \"semantic_type\": \"\",\n        \"description\": \"\"\n      }\n    },\n    {\n      \"column\": \"Unnamed: 4\",\n      \"properties\": {\n        \"dtype\": \"category\",\n        \"num_unique_values\": 5,\n        \"samples\": [\n          \"marital\",\n          \"divorced\",\n          \"married\"\n        ],\n        \"semantic_type\": \"\",\n        \"description\": \"\"\n      }\n    },\n    {\n      \"column\": \"Unnamed: 5\",\n      \"properties\": {\n        \"dtype\": \"category\",\n        \"num_unique_values\": 49,\n        \"samples\": [\n          \"blue-collar,secondary\",\n          \"housemaid,unknown\",\n          \"unknown,tertiary\"\n        ],\n        \"semantic_type\": \"\",\n        \"description\": \"\"\n      }\n    },\n    {\n      \"column\": \"Unnamed: 6\",\n      \"properties\": {\n        \"dtype\": \"category\",\n        \"num_unique_values\": 4,\n        \"samples\": [\n          \"targeted\",\n          \"no\",\n          \"particular customer before targeted or not\"\n        ],\n        \"semantic_type\": \"\",\n        \"description\": \"\"\n      }\n    },\n    {\n      \"column\": \"Unnamed: 7\",\n      \"properties\": {\n        \"dtype\": \"category\",\n        \"num_unique_values\": 3,\n        \"samples\": [\n          \"default\",\n          \"no\",\n          \"yes\"\n        ],\n        \"semantic_type\": \"\",\n        \"description\": \"\"\n      }\n    },\n    {\n      \"column\": \"Unnamed: 8\",\n      \"properties\": {\n        \"dtype\": \"category\",\n        \"num_unique_values\": 4,\n        \"samples\": [\n          \"housing\",\n          \"no\",\n          \"Loan types: loans or housing loans\"\n        ],\n        \"semantic_type\": \"\",\n        \"description\": \"\"\n      }\n    },\n    {\n      \"column\": \"Unnamed: 9\",\n      \"properties\": {\n        \"dtype\": \"category\",\n        \"num_unique_values\": 3,\n        \"samples\": [\n          \"loan\",\n          \"no\",\n          \"yes\"\n        ],\n        \"semantic_type\": \"\",\n        \"description\": \"\"\n      }\n    },\n    {\n      \"column\": \"Unnamed: 10\",\n      \"properties\": {\n        \"dtype\": \"category\",\n        \"num_unique_values\": 5,\n        \"samples\": [\n          \"contact\",\n          \"telephone\",\n          \"unknown\"\n        ],\n        \"semantic_type\": \"\",\n        \"description\": \"\"\n      }\n    },\n    {\n      \"column\": \"Unnamed: 11\",\n      \"properties\": {\n        \"dtype\": \"category\",\n        \"num_unique_values\": 32,\n        \"samples\": [\n          \"10\",\n          \"26\",\n          \"17\"\n        ],\n        \"semantic_type\": \"\",\n        \"description\": \"\"\n      }\n    },\n    {\n      \"column\": \"Unnamed: 12\",\n      \"properties\": {\n        \"dtype\": \"category\",\n        \"num_unique_values\": 14,\n        \"samples\": [\n          \"jan, 2017\",\n          \"mar, 2017\",\n          \"month of contact\"\n        ],\n        \"semantic_type\": \"\",\n        \"description\": \"\"\n      }\n    },\n    {\n      \"column\": \"Unnamed: 13\",\n      \"properties\": {\n        \"dtype\": \"category\",\n        \"num_unique_values\": 2648,\n        \"samples\": [\n          \"2.93333333333333 min\",\n          \"23.0166666666667 min\",\n          \"1135 sec\"\n        ],\n        \"semantic_type\": \"\",\n        \"description\": \"\"\n      }\n    },\n    {\n      \"column\": \"Unnamed: 14\",\n      \"properties\": {\n        \"dtype\": \"category\",\n        \"num_unique_values\": 49,\n        \"samples\": [\n          \"13\",\n          \"34\",\n          \"39\"\n        ],\n        \"semantic_type\": \"\",\n        \"description\": \"\"\n      }\n    },\n    {\n      \"column\": \"Unnamed: 15\",\n      \"properties\": {\n        \"dtype\": \"category\",\n        \"num_unique_values\": 560,\n        \"samples\": [\n          \"414\",\n          \"36\",\n          \"214\"\n        ],\n        \"semantic_type\": \"\",\n        \"description\": \"\"\n      }\n    },\n    {\n      \"column\": \"Unnamed: 16\",\n      \"properties\": {\n        \"dtype\": \"category\",\n        \"num_unique_values\": 42,\n        \"samples\": [\n          \"17\",\n          \"18\",\n          \"6\"\n        ],\n        \"semantic_type\": \"\",\n        \"description\": \"\"\n      }\n    },\n    {\n      \"column\": \"Unnamed: 17\",\n      \"properties\": {\n        \"dtype\": \"category\",\n        \"num_unique_values\": 6,\n        \"samples\": [\n          \"outcome of previous contact\",\n          \"poutcome\",\n          \"success\"\n        ],\n        \"semantic_type\": \"\",\n        \"description\": \"\"\n      }\n    },\n    {\n      \"column\": \"Unnamed: 18\",\n      \"properties\": {\n        \"dtype\": \"category\",\n        \"num_unique_values\": 4,\n        \"samples\": [\n          \"response\",\n          \"yes\",\n          \"response of customer after call happned\"\n        ],\n        \"semantic_type\": \"\",\n        \"description\": \"\"\n      }\n    }\n  ]\n}"
            }
          },
          "metadata": {},
          "execution_count": 3
        }
      ],
      "source": [
        "#Print the head of the data frame.\n",
        "inp0.head()"
      ]
    },
    {
      "cell_type": "markdown",
      "metadata": {
        "id": "8SDOb71nAO83"
      },
      "source": [
        "### Segment- 3, Fixing the Rows and Columns"
      ]
    },
    {
      "cell_type": "markdown",
      "metadata": {
        "id": "wvukYNkqAO83"
      },
      "source": [
        "Checklist for fixing rows:\n",
        "- **Delete summary rows**: Total and Subtotal rows\n",
        "- **Delete incorrect rows**: Header row and footer row\n",
        "- **Delete extra rows**: Column number, indicators, Blank rows, Page No.\n",
        "\n",
        "Checklist for fixing columns:\n",
        "- **Merge columns for creating unique identifiers**, if needed, for example, merge the columns State and City into the column Full address.\n",
        "- **Split columns to get more data**: Split the Address column to get State and City columns to analyse each separately.\n",
        "- **Add column names**: Add column names if missing.\n",
        "- **Rename columns consistently**: Abbreviations, encoded columns.\n",
        "- **Delete columns**: Delete unnecessary columns.\n",
        "- **Align misaligned columns**: The data set may have shifted columns, which you need to align correctly.\n"
      ]
    },
    {
      "cell_type": "markdown",
      "metadata": {
        "id": "Um6vJXMlAO84"
      },
      "source": [
        "#### Read the file without unnecessary headers."
      ]
    },
    {
      "cell_type": "code",
      "execution_count": null,
      "metadata": {
        "id": "ylxNcS9aAO84"
      },
      "outputs": [],
      "source": [
        "#read the file in inp0 without first two rows as it is of no use.\n",
        "inp0 = pd.read_csv('/content/bankdata.csv', skiprows=2)\n",
        "\n"
      ]
    },
    {
      "cell_type": "code",
      "execution_count": null,
      "metadata": {
        "colab": {
          "base_uri": "https://localhost:8080/",
          "height": 313
        },
        "id": "kiigntwEAO84",
        "outputId": "eaa54024-596f-419a-f25a-8a2239f59f85"
      },
      "outputs": [
        {
          "output_type": "execute_result",
          "data": {
            "text/plain": [
              "   customerid   age  salary  balance  marital                  jobedu  \\\n",
              "0           1  58.0  100000     2143  married     management,tertiary   \n",
              "1           2  44.0   60000       29   single    technician,secondary   \n",
              "2           3  33.0  120000        2  married  entrepreneur,secondary   \n",
              "3           4  47.0   20000     1506  married     blue-collar,unknown   \n",
              "4           5  33.0       0        1   single         unknown,unknown   \n",
              "\n",
              "  targeted default housing loan  contact  day      month duration  campaign  \\\n",
              "0      yes      no     yes   no  unknown    5  may, 2017  261 sec         1   \n",
              "1      yes      no     yes   no  unknown    5  may, 2017  151 sec         1   \n",
              "2      yes      no     yes  yes  unknown    5  may, 2017   76 sec         1   \n",
              "3       no      no     yes   no  unknown    5  may, 2017   92 sec         1   \n",
              "4       no      no      no   no  unknown    5  may, 2017  198 sec         1   \n",
              "\n",
              "   pdays  previous poutcome response  \n",
              "0     -1         0  unknown       no  \n",
              "1     -1         0  unknown       no  \n",
              "2     -1         0  unknown       no  \n",
              "3     -1         0  unknown       no  \n",
              "4     -1         0  unknown       no  "
            ],
            "text/html": [
              "\n",
              "  <div id=\"df-8f4619c1-cd04-491d-9f63-29f1112abf50\" class=\"colab-df-container\">\n",
              "    <div>\n",
              "<style scoped>\n",
              "    .dataframe tbody tr th:only-of-type {\n",
              "        vertical-align: middle;\n",
              "    }\n",
              "\n",
              "    .dataframe tbody tr th {\n",
              "        vertical-align: top;\n",
              "    }\n",
              "\n",
              "    .dataframe thead th {\n",
              "        text-align: right;\n",
              "    }\n",
              "</style>\n",
              "<table border=\"1\" class=\"dataframe\">\n",
              "  <thead>\n",
              "    <tr style=\"text-align: right;\">\n",
              "      <th></th>\n",
              "      <th>customerid</th>\n",
              "      <th>age</th>\n",
              "      <th>salary</th>\n",
              "      <th>balance</th>\n",
              "      <th>marital</th>\n",
              "      <th>jobedu</th>\n",
              "      <th>targeted</th>\n",
              "      <th>default</th>\n",
              "      <th>housing</th>\n",
              "      <th>loan</th>\n",
              "      <th>contact</th>\n",
              "      <th>day</th>\n",
              "      <th>month</th>\n",
              "      <th>duration</th>\n",
              "      <th>campaign</th>\n",
              "      <th>pdays</th>\n",
              "      <th>previous</th>\n",
              "      <th>poutcome</th>\n",
              "      <th>response</th>\n",
              "    </tr>\n",
              "  </thead>\n",
              "  <tbody>\n",
              "    <tr>\n",
              "      <th>0</th>\n",
              "      <td>1</td>\n",
              "      <td>58.0</td>\n",
              "      <td>100000</td>\n",
              "      <td>2143</td>\n",
              "      <td>married</td>\n",
              "      <td>management,tertiary</td>\n",
              "      <td>yes</td>\n",
              "      <td>no</td>\n",
              "      <td>yes</td>\n",
              "      <td>no</td>\n",
              "      <td>unknown</td>\n",
              "      <td>5</td>\n",
              "      <td>may, 2017</td>\n",
              "      <td>261 sec</td>\n",
              "      <td>1</td>\n",
              "      <td>-1</td>\n",
              "      <td>0</td>\n",
              "      <td>unknown</td>\n",
              "      <td>no</td>\n",
              "    </tr>\n",
              "    <tr>\n",
              "      <th>1</th>\n",
              "      <td>2</td>\n",
              "      <td>44.0</td>\n",
              "      <td>60000</td>\n",
              "      <td>29</td>\n",
              "      <td>single</td>\n",
              "      <td>technician,secondary</td>\n",
              "      <td>yes</td>\n",
              "      <td>no</td>\n",
              "      <td>yes</td>\n",
              "      <td>no</td>\n",
              "      <td>unknown</td>\n",
              "      <td>5</td>\n",
              "      <td>may, 2017</td>\n",
              "      <td>151 sec</td>\n",
              "      <td>1</td>\n",
              "      <td>-1</td>\n",
              "      <td>0</td>\n",
              "      <td>unknown</td>\n",
              "      <td>no</td>\n",
              "    </tr>\n",
              "    <tr>\n",
              "      <th>2</th>\n",
              "      <td>3</td>\n",
              "      <td>33.0</td>\n",
              "      <td>120000</td>\n",
              "      <td>2</td>\n",
              "      <td>married</td>\n",
              "      <td>entrepreneur,secondary</td>\n",
              "      <td>yes</td>\n",
              "      <td>no</td>\n",
              "      <td>yes</td>\n",
              "      <td>yes</td>\n",
              "      <td>unknown</td>\n",
              "      <td>5</td>\n",
              "      <td>may, 2017</td>\n",
              "      <td>76 sec</td>\n",
              "      <td>1</td>\n",
              "      <td>-1</td>\n",
              "      <td>0</td>\n",
              "      <td>unknown</td>\n",
              "      <td>no</td>\n",
              "    </tr>\n",
              "    <tr>\n",
              "      <th>3</th>\n",
              "      <td>4</td>\n",
              "      <td>47.0</td>\n",
              "      <td>20000</td>\n",
              "      <td>1506</td>\n",
              "      <td>married</td>\n",
              "      <td>blue-collar,unknown</td>\n",
              "      <td>no</td>\n",
              "      <td>no</td>\n",
              "      <td>yes</td>\n",
              "      <td>no</td>\n",
              "      <td>unknown</td>\n",
              "      <td>5</td>\n",
              "      <td>may, 2017</td>\n",
              "      <td>92 sec</td>\n",
              "      <td>1</td>\n",
              "      <td>-1</td>\n",
              "      <td>0</td>\n",
              "      <td>unknown</td>\n",
              "      <td>no</td>\n",
              "    </tr>\n",
              "    <tr>\n",
              "      <th>4</th>\n",
              "      <td>5</td>\n",
              "      <td>33.0</td>\n",
              "      <td>0</td>\n",
              "      <td>1</td>\n",
              "      <td>single</td>\n",
              "      <td>unknown,unknown</td>\n",
              "      <td>no</td>\n",
              "      <td>no</td>\n",
              "      <td>no</td>\n",
              "      <td>no</td>\n",
              "      <td>unknown</td>\n",
              "      <td>5</td>\n",
              "      <td>may, 2017</td>\n",
              "      <td>198 sec</td>\n",
              "      <td>1</td>\n",
              "      <td>-1</td>\n",
              "      <td>0</td>\n",
              "      <td>unknown</td>\n",
              "      <td>no</td>\n",
              "    </tr>\n",
              "  </tbody>\n",
              "</table>\n",
              "</div>\n",
              "    <div class=\"colab-df-buttons\">\n",
              "\n",
              "  <div class=\"colab-df-container\">\n",
              "    <button class=\"colab-df-convert\" onclick=\"convertToInteractive('df-8f4619c1-cd04-491d-9f63-29f1112abf50')\"\n",
              "            title=\"Convert this dataframe to an interactive table.\"\n",
              "            style=\"display:none;\">\n",
              "\n",
              "  <svg xmlns=\"http://www.w3.org/2000/svg\" height=\"24px\" viewBox=\"0 -960 960 960\">\n",
              "    <path d=\"M120-120v-720h720v720H120Zm60-500h600v-160H180v160Zm220 220h160v-160H400v160Zm0 220h160v-160H400v160ZM180-400h160v-160H180v160Zm440 0h160v-160H620v160ZM180-180h160v-160H180v160Zm440 0h160v-160H620v160Z\"/>\n",
              "  </svg>\n",
              "    </button>\n",
              "\n",
              "  <style>\n",
              "    .colab-df-container {\n",
              "      display:flex;\n",
              "      gap: 12px;\n",
              "    }\n",
              "\n",
              "    .colab-df-convert {\n",
              "      background-color: #E8F0FE;\n",
              "      border: none;\n",
              "      border-radius: 50%;\n",
              "      cursor: pointer;\n",
              "      display: none;\n",
              "      fill: #1967D2;\n",
              "      height: 32px;\n",
              "      padding: 0 0 0 0;\n",
              "      width: 32px;\n",
              "    }\n",
              "\n",
              "    .colab-df-convert:hover {\n",
              "      background-color: #E2EBFA;\n",
              "      box-shadow: 0px 1px 2px rgba(60, 64, 67, 0.3), 0px 1px 3px 1px rgba(60, 64, 67, 0.15);\n",
              "      fill: #174EA6;\n",
              "    }\n",
              "\n",
              "    .colab-df-buttons div {\n",
              "      margin-bottom: 4px;\n",
              "    }\n",
              "\n",
              "    [theme=dark] .colab-df-convert {\n",
              "      background-color: #3B4455;\n",
              "      fill: #D2E3FC;\n",
              "    }\n",
              "\n",
              "    [theme=dark] .colab-df-convert:hover {\n",
              "      background-color: #434B5C;\n",
              "      box-shadow: 0px 1px 3px 1px rgba(0, 0, 0, 0.15);\n",
              "      filter: drop-shadow(0px 1px 2px rgba(0, 0, 0, 0.3));\n",
              "      fill: #FFFFFF;\n",
              "    }\n",
              "  </style>\n",
              "\n",
              "    <script>\n",
              "      const buttonEl =\n",
              "        document.querySelector('#df-8f4619c1-cd04-491d-9f63-29f1112abf50 button.colab-df-convert');\n",
              "      buttonEl.style.display =\n",
              "        google.colab.kernel.accessAllowed ? 'block' : 'none';\n",
              "\n",
              "      async function convertToInteractive(key) {\n",
              "        const element = document.querySelector('#df-8f4619c1-cd04-491d-9f63-29f1112abf50');\n",
              "        const dataTable =\n",
              "          await google.colab.kernel.invokeFunction('convertToInteractive',\n",
              "                                                    [key], {});\n",
              "        if (!dataTable) return;\n",
              "\n",
              "        const docLinkHtml = 'Like what you see? Visit the ' +\n",
              "          '<a target=\"_blank\" href=https://colab.research.google.com/notebooks/data_table.ipynb>data table notebook</a>'\n",
              "          + ' to learn more about interactive tables.';\n",
              "        element.innerHTML = '';\n",
              "        dataTable['output_type'] = 'display_data';\n",
              "        await google.colab.output.renderOutput(dataTable, element);\n",
              "        const docLink = document.createElement('div');\n",
              "        docLink.innerHTML = docLinkHtml;\n",
              "        element.appendChild(docLink);\n",
              "      }\n",
              "    </script>\n",
              "  </div>\n",
              "\n",
              "\n",
              "<div id=\"df-475b8653-6a2c-43a5-89c9-fd8bc13b4f90\">\n",
              "  <button class=\"colab-df-quickchart\" onclick=\"quickchart('df-475b8653-6a2c-43a5-89c9-fd8bc13b4f90')\"\n",
              "            title=\"Suggest charts\"\n",
              "            style=\"display:none;\">\n",
              "\n",
              "<svg xmlns=\"http://www.w3.org/2000/svg\" height=\"24px\"viewBox=\"0 0 24 24\"\n",
              "     width=\"24px\">\n",
              "    <g>\n",
              "        <path d=\"M19 3H5c-1.1 0-2 .9-2 2v14c0 1.1.9 2 2 2h14c1.1 0 2-.9 2-2V5c0-1.1-.9-2-2-2zM9 17H7v-7h2v7zm4 0h-2V7h2v10zm4 0h-2v-4h2v4z\"/>\n",
              "    </g>\n",
              "</svg>\n",
              "  </button>\n",
              "\n",
              "<style>\n",
              "  .colab-df-quickchart {\n",
              "      --bg-color: #E8F0FE;\n",
              "      --fill-color: #1967D2;\n",
              "      --hover-bg-color: #E2EBFA;\n",
              "      --hover-fill-color: #174EA6;\n",
              "      --disabled-fill-color: #AAA;\n",
              "      --disabled-bg-color: #DDD;\n",
              "  }\n",
              "\n",
              "  [theme=dark] .colab-df-quickchart {\n",
              "      --bg-color: #3B4455;\n",
              "      --fill-color: #D2E3FC;\n",
              "      --hover-bg-color: #434B5C;\n",
              "      --hover-fill-color: #FFFFFF;\n",
              "      --disabled-bg-color: #3B4455;\n",
              "      --disabled-fill-color: #666;\n",
              "  }\n",
              "\n",
              "  .colab-df-quickchart {\n",
              "    background-color: var(--bg-color);\n",
              "    border: none;\n",
              "    border-radius: 50%;\n",
              "    cursor: pointer;\n",
              "    display: none;\n",
              "    fill: var(--fill-color);\n",
              "    height: 32px;\n",
              "    padding: 0;\n",
              "    width: 32px;\n",
              "  }\n",
              "\n",
              "  .colab-df-quickchart:hover {\n",
              "    background-color: var(--hover-bg-color);\n",
              "    box-shadow: 0 1px 2px rgba(60, 64, 67, 0.3), 0 1px 3px 1px rgba(60, 64, 67, 0.15);\n",
              "    fill: var(--button-hover-fill-color);\n",
              "  }\n",
              "\n",
              "  .colab-df-quickchart-complete:disabled,\n",
              "  .colab-df-quickchart-complete:disabled:hover {\n",
              "    background-color: var(--disabled-bg-color);\n",
              "    fill: var(--disabled-fill-color);\n",
              "    box-shadow: none;\n",
              "  }\n",
              "\n",
              "  .colab-df-spinner {\n",
              "    border: 2px solid var(--fill-color);\n",
              "    border-color: transparent;\n",
              "    border-bottom-color: var(--fill-color);\n",
              "    animation:\n",
              "      spin 1s steps(1) infinite;\n",
              "  }\n",
              "\n",
              "  @keyframes spin {\n",
              "    0% {\n",
              "      border-color: transparent;\n",
              "      border-bottom-color: var(--fill-color);\n",
              "      border-left-color: var(--fill-color);\n",
              "    }\n",
              "    20% {\n",
              "      border-color: transparent;\n",
              "      border-left-color: var(--fill-color);\n",
              "      border-top-color: var(--fill-color);\n",
              "    }\n",
              "    30% {\n",
              "      border-color: transparent;\n",
              "      border-left-color: var(--fill-color);\n",
              "      border-top-color: var(--fill-color);\n",
              "      border-right-color: var(--fill-color);\n",
              "    }\n",
              "    40% {\n",
              "      border-color: transparent;\n",
              "      border-right-color: var(--fill-color);\n",
              "      border-top-color: var(--fill-color);\n",
              "    }\n",
              "    60% {\n",
              "      border-color: transparent;\n",
              "      border-right-color: var(--fill-color);\n",
              "    }\n",
              "    80% {\n",
              "      border-color: transparent;\n",
              "      border-right-color: var(--fill-color);\n",
              "      border-bottom-color: var(--fill-color);\n",
              "    }\n",
              "    90% {\n",
              "      border-color: transparent;\n",
              "      border-bottom-color: var(--fill-color);\n",
              "    }\n",
              "  }\n",
              "</style>\n",
              "\n",
              "  <script>\n",
              "    async function quickchart(key) {\n",
              "      const quickchartButtonEl =\n",
              "        document.querySelector('#' + key + ' button');\n",
              "      quickchartButtonEl.disabled = true;  // To prevent multiple clicks.\n",
              "      quickchartButtonEl.classList.add('colab-df-spinner');\n",
              "      try {\n",
              "        const charts = await google.colab.kernel.invokeFunction(\n",
              "            'suggestCharts', [key], {});\n",
              "      } catch (error) {\n",
              "        console.error('Error during call to suggestCharts:', error);\n",
              "      }\n",
              "      quickchartButtonEl.classList.remove('colab-df-spinner');\n",
              "      quickchartButtonEl.classList.add('colab-df-quickchart-complete');\n",
              "    }\n",
              "    (() => {\n",
              "      let quickchartButtonEl =\n",
              "        document.querySelector('#df-475b8653-6a2c-43a5-89c9-fd8bc13b4f90 button');\n",
              "      quickchartButtonEl.style.display =\n",
              "        google.colab.kernel.accessAllowed ? 'block' : 'none';\n",
              "    })();\n",
              "  </script>\n",
              "</div>\n",
              "    </div>\n",
              "  </div>\n"
            ],
            "application/vnd.google.colaboratory.intrinsic+json": {
              "type": "dataframe",
              "variable_name": "inp0",
              "summary": "{\n  \"name\": \"inp0\",\n  \"rows\": 45211,\n  \"fields\": [\n    {\n      \"column\": \"customerid\",\n      \"properties\": {\n        \"dtype\": \"number\",\n        \"std\": 13051,\n        \"min\": 1,\n        \"max\": 45211,\n        \"num_unique_values\": 45211,\n        \"samples\": [\n          3777,\n          9929,\n          33410\n        ],\n        \"semantic_type\": \"\",\n        \"description\": \"\"\n      }\n    },\n    {\n      \"column\": \"age\",\n      \"properties\": {\n        \"dtype\": \"number\",\n        \"std\": 10.619197578972633,\n        \"min\": 18.0,\n        \"max\": 95.0,\n        \"num_unique_values\": 77,\n        \"samples\": [\n          35.0,\n          34.0,\n          53.0\n        ],\n        \"semantic_type\": \"\",\n        \"description\": \"\"\n      }\n    },\n    {\n      \"column\": \"salary\",\n      \"properties\": {\n        \"dtype\": \"number\",\n        \"std\": 32085,\n        \"min\": 0,\n        \"max\": 120000,\n        \"num_unique_values\": 11,\n        \"samples\": [\n          55000,\n          100000,\n          16000\n        ],\n        \"semantic_type\": \"\",\n        \"description\": \"\"\n      }\n    },\n    {\n      \"column\": \"balance\",\n      \"properties\": {\n        \"dtype\": \"number\",\n        \"std\": 3044,\n        \"min\": -8019,\n        \"max\": 102127,\n        \"num_unique_values\": 7168,\n        \"samples\": [\n          3276,\n          43,\n          7003\n        ],\n        \"semantic_type\": \"\",\n        \"description\": \"\"\n      }\n    },\n    {\n      \"column\": \"marital\",\n      \"properties\": {\n        \"dtype\": \"category\",\n        \"num_unique_values\": 3,\n        \"samples\": [\n          \"married\",\n          \"single\",\n          \"divorced\"\n        ],\n        \"semantic_type\": \"\",\n        \"description\": \"\"\n      }\n    },\n    {\n      \"column\": \"jobedu\",\n      \"properties\": {\n        \"dtype\": \"category\",\n        \"num_unique_values\": 48,\n        \"samples\": [\n          \"housemaid,primary\",\n          \"blue-collar,tertiary\",\n          \"services,unknown\"\n        ],\n        \"semantic_type\": \"\",\n        \"description\": \"\"\n      }\n    },\n    {\n      \"column\": \"targeted\",\n      \"properties\": {\n        \"dtype\": \"category\",\n        \"num_unique_values\": 2,\n        \"samples\": [\n          \"no\",\n          \"yes\"\n        ],\n        \"semantic_type\": \"\",\n        \"description\": \"\"\n      }\n    },\n    {\n      \"column\": \"default\",\n      \"properties\": {\n        \"dtype\": \"category\",\n        \"num_unique_values\": 2,\n        \"samples\": [\n          \"yes\",\n          \"no\"\n        ],\n        \"semantic_type\": \"\",\n        \"description\": \"\"\n      }\n    },\n    {\n      \"column\": \"housing\",\n      \"properties\": {\n        \"dtype\": \"category\",\n        \"num_unique_values\": 2,\n        \"samples\": [\n          \"no\",\n          \"yes\"\n        ],\n        \"semantic_type\": \"\",\n        \"description\": \"\"\n      }\n    },\n    {\n      \"column\": \"loan\",\n      \"properties\": {\n        \"dtype\": \"category\",\n        \"num_unique_values\": 2,\n        \"samples\": [\n          \"yes\",\n          \"no\"\n        ],\n        \"semantic_type\": \"\",\n        \"description\": \"\"\n      }\n    },\n    {\n      \"column\": \"contact\",\n      \"properties\": {\n        \"dtype\": \"category\",\n        \"num_unique_values\": 3,\n        \"samples\": [\n          \"unknown\",\n          \"cellular\"\n        ],\n        \"semantic_type\": \"\",\n        \"description\": \"\"\n      }\n    },\n    {\n      \"column\": \"day\",\n      \"properties\": {\n        \"dtype\": \"number\",\n        \"std\": 8,\n        \"min\": 1,\n        \"max\": 31,\n        \"num_unique_values\": 31,\n        \"samples\": [\n          1,\n          27\n        ],\n        \"semantic_type\": \"\",\n        \"description\": \"\"\n      }\n    },\n    {\n      \"column\": \"month\",\n      \"properties\": {\n        \"dtype\": \"object\",\n        \"num_unique_values\": 12,\n        \"samples\": [\n          \"apr, 2017\",\n          \"mar, 2017\"\n        ],\n        \"semantic_type\": \"\",\n        \"description\": \"\"\n      }\n    },\n    {\n      \"column\": \"duration\",\n      \"properties\": {\n        \"dtype\": \"category\",\n        \"num_unique_values\": 2646,\n        \"samples\": [\n          \"6.83333333333333 min\",\n          \"905 sec\"\n        ],\n        \"semantic_type\": \"\",\n        \"description\": \"\"\n      }\n    },\n    {\n      \"column\": \"campaign\",\n      \"properties\": {\n        \"dtype\": \"number\",\n        \"std\": 3,\n        \"min\": 1,\n        \"max\": 63,\n        \"num_unique_values\": 48,\n        \"samples\": [\n          41,\n          27\n        ],\n        \"semantic_type\": \"\",\n        \"description\": \"\"\n      }\n    },\n    {\n      \"column\": \"pdays\",\n      \"properties\": {\n        \"dtype\": \"number\",\n        \"std\": 100,\n        \"min\": -1,\n        \"max\": 871,\n        \"num_unique_values\": 559,\n        \"samples\": [\n          249,\n          551\n        ],\n        \"semantic_type\": \"\",\n        \"description\": \"\"\n      }\n    },\n    {\n      \"column\": \"previous\",\n      \"properties\": {\n        \"dtype\": \"number\",\n        \"std\": 2,\n        \"min\": 0,\n        \"max\": 275,\n        \"num_unique_values\": 41,\n        \"samples\": [\n          17,\n          9\n        ],\n        \"semantic_type\": \"\",\n        \"description\": \"\"\n      }\n    },\n    {\n      \"column\": \"poutcome\",\n      \"properties\": {\n        \"dtype\": \"category\",\n        \"num_unique_values\": 4,\n        \"samples\": [\n          \"failure\",\n          \"success\"\n        ],\n        \"semantic_type\": \"\",\n        \"description\": \"\"\n      }\n    },\n    {\n      \"column\": \"response\",\n      \"properties\": {\n        \"dtype\": \"category\",\n        \"num_unique_values\": 2,\n        \"samples\": [\n          \"yes\",\n          \"no\"\n        ],\n        \"semantic_type\": \"\",\n        \"description\": \"\"\n      }\n    }\n  ]\n}"
            }
          },
          "metadata": {},
          "execution_count": 10
        }
      ],
      "source": [
        "#print the head of the data frame.\n",
        "inp0.head()"
      ]
    },
    {
      "cell_type": "code",
      "execution_count": null,
      "metadata": {
        "colab": {
          "base_uri": "https://localhost:8080/"
        },
        "id": "6tzy0n3ZAO84",
        "outputId": "f36fa58f-3da2-4474-ccb4-25b4565894c7"
      },
      "outputs": [
        {
          "output_type": "stream",
          "name": "stdout",
          "text": [
            "<class 'pandas.core.frame.DataFrame'>\n",
            "RangeIndex: 45211 entries, 0 to 45210\n",
            "Data columns (total 19 columns):\n",
            " #   Column      Non-Null Count  Dtype  \n",
            "---  ------      --------------  -----  \n",
            " 0   customerid  45211 non-null  int64  \n",
            " 1   age         45191 non-null  float64\n",
            " 2   salary      45211 non-null  int64  \n",
            " 3   balance     45211 non-null  int64  \n",
            " 4   marital     45211 non-null  object \n",
            " 5   jobedu      45211 non-null  object \n",
            " 6   targeted    45211 non-null  object \n",
            " 7   default     45211 non-null  object \n",
            " 8   housing     45211 non-null  object \n",
            " 9   loan        45211 non-null  object \n",
            " 10  contact     45211 non-null  object \n",
            " 11  day         45211 non-null  int64  \n",
            " 12  month       45161 non-null  object \n",
            " 13  duration    45211 non-null  object \n",
            " 14  campaign    45211 non-null  int64  \n",
            " 15  pdays       45211 non-null  int64  \n",
            " 16  previous    45211 non-null  int64  \n",
            " 17  poutcome    45211 non-null  object \n",
            " 18  response    45181 non-null  object \n",
            "dtypes: float64(1), int64(7), object(11)\n",
            "memory usage: 6.6+ MB\n"
          ]
        }
      ],
      "source": [
        "#print the information of variables to check their data types.\n",
        "inp0.info()"
      ]
    },
    {
      "cell_type": "code",
      "execution_count": null,
      "metadata": {
        "colab": {
          "base_uri": "https://localhost:8080/"
        },
        "id": "ewse-FpKAO85",
        "outputId": "73bf8625-03bd-494b-ffaf-7e35c8c78939"
      },
      "outputs": [
        {
          "output_type": "stream",
          "name": "stdout",
          "text": [
            "<class 'pandas.core.frame.DataFrame'>\n",
            "RangeIndex: 45211 entries, 0 to 45210\n",
            "Data columns (total 19 columns):\n",
            " #   Column      Non-Null Count  Dtype \n",
            "---  ------      --------------  ----- \n",
            " 0   customerid  45211 non-null  int64 \n",
            " 1   age         45211 non-null  int64 \n",
            " 2   salary      45211 non-null  int64 \n",
            " 3   balance     45211 non-null  int64 \n",
            " 4   marital     45211 non-null  object\n",
            " 5   jobedu      45211 non-null  object\n",
            " 6   targeted    45211 non-null  object\n",
            " 7   default     45211 non-null  object\n",
            " 8   housing     45211 non-null  object\n",
            " 9   loan        45211 non-null  object\n",
            " 10  contact     45211 non-null  object\n",
            " 11  day         45211 non-null  int64 \n",
            " 12  month       45161 non-null  object\n",
            " 13  duration    45211 non-null  object\n",
            " 14  campaign    45211 non-null  int64 \n",
            " 15  pdays       45211 non-null  int64 \n",
            " 16  previous    45211 non-null  int64 \n",
            " 17  poutcome    45211 non-null  object\n",
            " 18  response    45181 non-null  object\n",
            "dtypes: int64(8), object(11)\n",
            "memory usage: 6.6+ MB\n"
          ]
        }
      ],
      "source": [
        "#convert the age variable data type from float to integer.\n",
        "inp0['age'] = inp0['age'].astype(float)\n",
        "inp0['age'].fillna(inp0['age'].median(), inplace=True)\n",
        "inp0['age'] = inp0['age'].astype(int)\n",
        "inp0.info()"
      ]
    },
    {
      "cell_type": "code",
      "execution_count": null,
      "metadata": {
        "colab": {
          "base_uri": "https://localhost:8080/"
        },
        "id": "TACpv8-dAO85",
        "outputId": "1ce4fec8-69c1-44e8-b039-5fdf460f43d3"
      },
      "outputs": [
        {
          "output_type": "stream",
          "name": "stdout",
          "text": [
            "The average age of customers is: 40.934794629625536\n"
          ]
        }
      ],
      "source": [
        "#print the average age of customers.\n",
        "average_age = inp0['age'].mean()\n",
        "print(\"The average age of customers is:\", average_age)"
      ]
    },
    {
      "cell_type": "markdown",
      "metadata": {
        "id": "t8QiR2_eAO85"
      },
      "source": [
        "#### Dropping customer id column."
      ]
    },
    {
      "cell_type": "code",
      "execution_count": null,
      "metadata": {
        "colab": {
          "base_uri": "https://localhost:8080/",
          "height": 313
        },
        "id": "MSRXTReZAO85",
        "outputId": "82a8fa1a-35d6-4799-f2e4-3e65d5d43d45"
      },
      "outputs": [
        {
          "output_type": "execute_result",
          "data": {
            "text/plain": [
              "   age  salary  balance  marital                  jobedu targeted default  \\\n",
              "0   58  100000     2143  married     management,tertiary      yes      no   \n",
              "1   44   60000       29   single    technician,secondary      yes      no   \n",
              "2   33  120000        2  married  entrepreneur,secondary      yes      no   \n",
              "3   47   20000     1506  married     blue-collar,unknown       no      no   \n",
              "4   33       0        1   single         unknown,unknown       no      no   \n",
              "\n",
              "  housing loan  contact  day      month duration  campaign  pdays  previous  \\\n",
              "0     yes   no  unknown    5  may, 2017  261 sec         1     -1         0   \n",
              "1     yes   no  unknown    5  may, 2017  151 sec         1     -1         0   \n",
              "2     yes  yes  unknown    5  may, 2017   76 sec         1     -1         0   \n",
              "3     yes   no  unknown    5  may, 2017   92 sec         1     -1         0   \n",
              "4      no   no  unknown    5  may, 2017  198 sec         1     -1         0   \n",
              "\n",
              "  poutcome response  \n",
              "0  unknown       no  \n",
              "1  unknown       no  \n",
              "2  unknown       no  \n",
              "3  unknown       no  \n",
              "4  unknown       no  "
            ],
            "text/html": [
              "\n",
              "  <div id=\"df-bd239a4e-eb6b-4b39-ba59-a9cd5f004adb\" class=\"colab-df-container\">\n",
              "    <div>\n",
              "<style scoped>\n",
              "    .dataframe tbody tr th:only-of-type {\n",
              "        vertical-align: middle;\n",
              "    }\n",
              "\n",
              "    .dataframe tbody tr th {\n",
              "        vertical-align: top;\n",
              "    }\n",
              "\n",
              "    .dataframe thead th {\n",
              "        text-align: right;\n",
              "    }\n",
              "</style>\n",
              "<table border=\"1\" class=\"dataframe\">\n",
              "  <thead>\n",
              "    <tr style=\"text-align: right;\">\n",
              "      <th></th>\n",
              "      <th>age</th>\n",
              "      <th>salary</th>\n",
              "      <th>balance</th>\n",
              "      <th>marital</th>\n",
              "      <th>jobedu</th>\n",
              "      <th>targeted</th>\n",
              "      <th>default</th>\n",
              "      <th>housing</th>\n",
              "      <th>loan</th>\n",
              "      <th>contact</th>\n",
              "      <th>day</th>\n",
              "      <th>month</th>\n",
              "      <th>duration</th>\n",
              "      <th>campaign</th>\n",
              "      <th>pdays</th>\n",
              "      <th>previous</th>\n",
              "      <th>poutcome</th>\n",
              "      <th>response</th>\n",
              "    </tr>\n",
              "  </thead>\n",
              "  <tbody>\n",
              "    <tr>\n",
              "      <th>0</th>\n",
              "      <td>58</td>\n",
              "      <td>100000</td>\n",
              "      <td>2143</td>\n",
              "      <td>married</td>\n",
              "      <td>management,tertiary</td>\n",
              "      <td>yes</td>\n",
              "      <td>no</td>\n",
              "      <td>yes</td>\n",
              "      <td>no</td>\n",
              "      <td>unknown</td>\n",
              "      <td>5</td>\n",
              "      <td>may, 2017</td>\n",
              "      <td>261 sec</td>\n",
              "      <td>1</td>\n",
              "      <td>-1</td>\n",
              "      <td>0</td>\n",
              "      <td>unknown</td>\n",
              "      <td>no</td>\n",
              "    </tr>\n",
              "    <tr>\n",
              "      <th>1</th>\n",
              "      <td>44</td>\n",
              "      <td>60000</td>\n",
              "      <td>29</td>\n",
              "      <td>single</td>\n",
              "      <td>technician,secondary</td>\n",
              "      <td>yes</td>\n",
              "      <td>no</td>\n",
              "      <td>yes</td>\n",
              "      <td>no</td>\n",
              "      <td>unknown</td>\n",
              "      <td>5</td>\n",
              "      <td>may, 2017</td>\n",
              "      <td>151 sec</td>\n",
              "      <td>1</td>\n",
              "      <td>-1</td>\n",
              "      <td>0</td>\n",
              "      <td>unknown</td>\n",
              "      <td>no</td>\n",
              "    </tr>\n",
              "    <tr>\n",
              "      <th>2</th>\n",
              "      <td>33</td>\n",
              "      <td>120000</td>\n",
              "      <td>2</td>\n",
              "      <td>married</td>\n",
              "      <td>entrepreneur,secondary</td>\n",
              "      <td>yes</td>\n",
              "      <td>no</td>\n",
              "      <td>yes</td>\n",
              "      <td>yes</td>\n",
              "      <td>unknown</td>\n",
              "      <td>5</td>\n",
              "      <td>may, 2017</td>\n",
              "      <td>76 sec</td>\n",
              "      <td>1</td>\n",
              "      <td>-1</td>\n",
              "      <td>0</td>\n",
              "      <td>unknown</td>\n",
              "      <td>no</td>\n",
              "    </tr>\n",
              "    <tr>\n",
              "      <th>3</th>\n",
              "      <td>47</td>\n",
              "      <td>20000</td>\n",
              "      <td>1506</td>\n",
              "      <td>married</td>\n",
              "      <td>blue-collar,unknown</td>\n",
              "      <td>no</td>\n",
              "      <td>no</td>\n",
              "      <td>yes</td>\n",
              "      <td>no</td>\n",
              "      <td>unknown</td>\n",
              "      <td>5</td>\n",
              "      <td>may, 2017</td>\n",
              "      <td>92 sec</td>\n",
              "      <td>1</td>\n",
              "      <td>-1</td>\n",
              "      <td>0</td>\n",
              "      <td>unknown</td>\n",
              "      <td>no</td>\n",
              "    </tr>\n",
              "    <tr>\n",
              "      <th>4</th>\n",
              "      <td>33</td>\n",
              "      <td>0</td>\n",
              "      <td>1</td>\n",
              "      <td>single</td>\n",
              "      <td>unknown,unknown</td>\n",
              "      <td>no</td>\n",
              "      <td>no</td>\n",
              "      <td>no</td>\n",
              "      <td>no</td>\n",
              "      <td>unknown</td>\n",
              "      <td>5</td>\n",
              "      <td>may, 2017</td>\n",
              "      <td>198 sec</td>\n",
              "      <td>1</td>\n",
              "      <td>-1</td>\n",
              "      <td>0</td>\n",
              "      <td>unknown</td>\n",
              "      <td>no</td>\n",
              "    </tr>\n",
              "  </tbody>\n",
              "</table>\n",
              "</div>\n",
              "    <div class=\"colab-df-buttons\">\n",
              "\n",
              "  <div class=\"colab-df-container\">\n",
              "    <button class=\"colab-df-convert\" onclick=\"convertToInteractive('df-bd239a4e-eb6b-4b39-ba59-a9cd5f004adb')\"\n",
              "            title=\"Convert this dataframe to an interactive table.\"\n",
              "            style=\"display:none;\">\n",
              "\n",
              "  <svg xmlns=\"http://www.w3.org/2000/svg\" height=\"24px\" viewBox=\"0 -960 960 960\">\n",
              "    <path d=\"M120-120v-720h720v720H120Zm60-500h600v-160H180v160Zm220 220h160v-160H400v160Zm0 220h160v-160H400v160ZM180-400h160v-160H180v160Zm440 0h160v-160H620v160ZM180-180h160v-160H180v160Zm440 0h160v-160H620v160Z\"/>\n",
              "  </svg>\n",
              "    </button>\n",
              "\n",
              "  <style>\n",
              "    .colab-df-container {\n",
              "      display:flex;\n",
              "      gap: 12px;\n",
              "    }\n",
              "\n",
              "    .colab-df-convert {\n",
              "      background-color: #E8F0FE;\n",
              "      border: none;\n",
              "      border-radius: 50%;\n",
              "      cursor: pointer;\n",
              "      display: none;\n",
              "      fill: #1967D2;\n",
              "      height: 32px;\n",
              "      padding: 0 0 0 0;\n",
              "      width: 32px;\n",
              "    }\n",
              "\n",
              "    .colab-df-convert:hover {\n",
              "      background-color: #E2EBFA;\n",
              "      box-shadow: 0px 1px 2px rgba(60, 64, 67, 0.3), 0px 1px 3px 1px rgba(60, 64, 67, 0.15);\n",
              "      fill: #174EA6;\n",
              "    }\n",
              "\n",
              "    .colab-df-buttons div {\n",
              "      margin-bottom: 4px;\n",
              "    }\n",
              "\n",
              "    [theme=dark] .colab-df-convert {\n",
              "      background-color: #3B4455;\n",
              "      fill: #D2E3FC;\n",
              "    }\n",
              "\n",
              "    [theme=dark] .colab-df-convert:hover {\n",
              "      background-color: #434B5C;\n",
              "      box-shadow: 0px 1px 3px 1px rgba(0, 0, 0, 0.15);\n",
              "      filter: drop-shadow(0px 1px 2px rgba(0, 0, 0, 0.3));\n",
              "      fill: #FFFFFF;\n",
              "    }\n",
              "  </style>\n",
              "\n",
              "    <script>\n",
              "      const buttonEl =\n",
              "        document.querySelector('#df-bd239a4e-eb6b-4b39-ba59-a9cd5f004adb button.colab-df-convert');\n",
              "      buttonEl.style.display =\n",
              "        google.colab.kernel.accessAllowed ? 'block' : 'none';\n",
              "\n",
              "      async function convertToInteractive(key) {\n",
              "        const element = document.querySelector('#df-bd239a4e-eb6b-4b39-ba59-a9cd5f004adb');\n",
              "        const dataTable =\n",
              "          await google.colab.kernel.invokeFunction('convertToInteractive',\n",
              "                                                    [key], {});\n",
              "        if (!dataTable) return;\n",
              "\n",
              "        const docLinkHtml = 'Like what you see? Visit the ' +\n",
              "          '<a target=\"_blank\" href=https://colab.research.google.com/notebooks/data_table.ipynb>data table notebook</a>'\n",
              "          + ' to learn more about interactive tables.';\n",
              "        element.innerHTML = '';\n",
              "        dataTable['output_type'] = 'display_data';\n",
              "        await google.colab.output.renderOutput(dataTable, element);\n",
              "        const docLink = document.createElement('div');\n",
              "        docLink.innerHTML = docLinkHtml;\n",
              "        element.appendChild(docLink);\n",
              "      }\n",
              "    </script>\n",
              "  </div>\n",
              "\n",
              "\n",
              "<div id=\"df-95677079-449b-4784-894e-478c1ffcd041\">\n",
              "  <button class=\"colab-df-quickchart\" onclick=\"quickchart('df-95677079-449b-4784-894e-478c1ffcd041')\"\n",
              "            title=\"Suggest charts\"\n",
              "            style=\"display:none;\">\n",
              "\n",
              "<svg xmlns=\"http://www.w3.org/2000/svg\" height=\"24px\"viewBox=\"0 0 24 24\"\n",
              "     width=\"24px\">\n",
              "    <g>\n",
              "        <path d=\"M19 3H5c-1.1 0-2 .9-2 2v14c0 1.1.9 2 2 2h14c1.1 0 2-.9 2-2V5c0-1.1-.9-2-2-2zM9 17H7v-7h2v7zm4 0h-2V7h2v10zm4 0h-2v-4h2v4z\"/>\n",
              "    </g>\n",
              "</svg>\n",
              "  </button>\n",
              "\n",
              "<style>\n",
              "  .colab-df-quickchart {\n",
              "      --bg-color: #E8F0FE;\n",
              "      --fill-color: #1967D2;\n",
              "      --hover-bg-color: #E2EBFA;\n",
              "      --hover-fill-color: #174EA6;\n",
              "      --disabled-fill-color: #AAA;\n",
              "      --disabled-bg-color: #DDD;\n",
              "  }\n",
              "\n",
              "  [theme=dark] .colab-df-quickchart {\n",
              "      --bg-color: #3B4455;\n",
              "      --fill-color: #D2E3FC;\n",
              "      --hover-bg-color: #434B5C;\n",
              "      --hover-fill-color: #FFFFFF;\n",
              "      --disabled-bg-color: #3B4455;\n",
              "      --disabled-fill-color: #666;\n",
              "  }\n",
              "\n",
              "  .colab-df-quickchart {\n",
              "    background-color: var(--bg-color);\n",
              "    border: none;\n",
              "    border-radius: 50%;\n",
              "    cursor: pointer;\n",
              "    display: none;\n",
              "    fill: var(--fill-color);\n",
              "    height: 32px;\n",
              "    padding: 0;\n",
              "    width: 32px;\n",
              "  }\n",
              "\n",
              "  .colab-df-quickchart:hover {\n",
              "    background-color: var(--hover-bg-color);\n",
              "    box-shadow: 0 1px 2px rgba(60, 64, 67, 0.3), 0 1px 3px 1px rgba(60, 64, 67, 0.15);\n",
              "    fill: var(--button-hover-fill-color);\n",
              "  }\n",
              "\n",
              "  .colab-df-quickchart-complete:disabled,\n",
              "  .colab-df-quickchart-complete:disabled:hover {\n",
              "    background-color: var(--disabled-bg-color);\n",
              "    fill: var(--disabled-fill-color);\n",
              "    box-shadow: none;\n",
              "  }\n",
              "\n",
              "  .colab-df-spinner {\n",
              "    border: 2px solid var(--fill-color);\n",
              "    border-color: transparent;\n",
              "    border-bottom-color: var(--fill-color);\n",
              "    animation:\n",
              "      spin 1s steps(1) infinite;\n",
              "  }\n",
              "\n",
              "  @keyframes spin {\n",
              "    0% {\n",
              "      border-color: transparent;\n",
              "      border-bottom-color: var(--fill-color);\n",
              "      border-left-color: var(--fill-color);\n",
              "    }\n",
              "    20% {\n",
              "      border-color: transparent;\n",
              "      border-left-color: var(--fill-color);\n",
              "      border-top-color: var(--fill-color);\n",
              "    }\n",
              "    30% {\n",
              "      border-color: transparent;\n",
              "      border-left-color: var(--fill-color);\n",
              "      border-top-color: var(--fill-color);\n",
              "      border-right-color: var(--fill-color);\n",
              "    }\n",
              "    40% {\n",
              "      border-color: transparent;\n",
              "      border-right-color: var(--fill-color);\n",
              "      border-top-color: var(--fill-color);\n",
              "    }\n",
              "    60% {\n",
              "      border-color: transparent;\n",
              "      border-right-color: var(--fill-color);\n",
              "    }\n",
              "    80% {\n",
              "      border-color: transparent;\n",
              "      border-right-color: var(--fill-color);\n",
              "      border-bottom-color: var(--fill-color);\n",
              "    }\n",
              "    90% {\n",
              "      border-color: transparent;\n",
              "      border-bottom-color: var(--fill-color);\n",
              "    }\n",
              "  }\n",
              "</style>\n",
              "\n",
              "  <script>\n",
              "    async function quickchart(key) {\n",
              "      const quickchartButtonEl =\n",
              "        document.querySelector('#' + key + ' button');\n",
              "      quickchartButtonEl.disabled = true;  // To prevent multiple clicks.\n",
              "      quickchartButtonEl.classList.add('colab-df-spinner');\n",
              "      try {\n",
              "        const charts = await google.colab.kernel.invokeFunction(\n",
              "            'suggestCharts', [key], {});\n",
              "      } catch (error) {\n",
              "        console.error('Error during call to suggestCharts:', error);\n",
              "      }\n",
              "      quickchartButtonEl.classList.remove('colab-df-spinner');\n",
              "      quickchartButtonEl.classList.add('colab-df-quickchart-complete');\n",
              "    }\n",
              "    (() => {\n",
              "      let quickchartButtonEl =\n",
              "        document.querySelector('#df-95677079-449b-4784-894e-478c1ffcd041 button');\n",
              "      quickchartButtonEl.style.display =\n",
              "        google.colab.kernel.accessAllowed ? 'block' : 'none';\n",
              "    })();\n",
              "  </script>\n",
              "</div>\n",
              "    </div>\n",
              "  </div>\n"
            ],
            "application/vnd.google.colaboratory.intrinsic+json": {
              "type": "dataframe",
              "variable_name": "inp0",
              "summary": "{\n  \"name\": \"inp0\",\n  \"rows\": 45211,\n  \"fields\": [\n    {\n      \"column\": \"age\",\n      \"properties\": {\n        \"dtype\": \"number\",\n        \"std\": 10,\n        \"min\": 18,\n        \"max\": 95,\n        \"num_unique_values\": 77,\n        \"samples\": [\n          35,\n          34,\n          53\n        ],\n        \"semantic_type\": \"\",\n        \"description\": \"\"\n      }\n    },\n    {\n      \"column\": \"salary\",\n      \"properties\": {\n        \"dtype\": \"number\",\n        \"std\": 32085,\n        \"min\": 0,\n        \"max\": 120000,\n        \"num_unique_values\": 11,\n        \"samples\": [\n          55000,\n          100000,\n          16000\n        ],\n        \"semantic_type\": \"\",\n        \"description\": \"\"\n      }\n    },\n    {\n      \"column\": \"balance\",\n      \"properties\": {\n        \"dtype\": \"number\",\n        \"std\": 3044,\n        \"min\": -8019,\n        \"max\": 102127,\n        \"num_unique_values\": 7168,\n        \"samples\": [\n          3276,\n          43,\n          7003\n        ],\n        \"semantic_type\": \"\",\n        \"description\": \"\"\n      }\n    },\n    {\n      \"column\": \"marital\",\n      \"properties\": {\n        \"dtype\": \"category\",\n        \"num_unique_values\": 3,\n        \"samples\": [\n          \"married\",\n          \"single\",\n          \"divorced\"\n        ],\n        \"semantic_type\": \"\",\n        \"description\": \"\"\n      }\n    },\n    {\n      \"column\": \"jobedu\",\n      \"properties\": {\n        \"dtype\": \"category\",\n        \"num_unique_values\": 48,\n        \"samples\": [\n          \"housemaid,primary\",\n          \"blue-collar,tertiary\",\n          \"services,unknown\"\n        ],\n        \"semantic_type\": \"\",\n        \"description\": \"\"\n      }\n    },\n    {\n      \"column\": \"targeted\",\n      \"properties\": {\n        \"dtype\": \"category\",\n        \"num_unique_values\": 2,\n        \"samples\": [\n          \"no\",\n          \"yes\"\n        ],\n        \"semantic_type\": \"\",\n        \"description\": \"\"\n      }\n    },\n    {\n      \"column\": \"default\",\n      \"properties\": {\n        \"dtype\": \"category\",\n        \"num_unique_values\": 2,\n        \"samples\": [\n          \"yes\",\n          \"no\"\n        ],\n        \"semantic_type\": \"\",\n        \"description\": \"\"\n      }\n    },\n    {\n      \"column\": \"housing\",\n      \"properties\": {\n        \"dtype\": \"category\",\n        \"num_unique_values\": 2,\n        \"samples\": [\n          \"no\",\n          \"yes\"\n        ],\n        \"semantic_type\": \"\",\n        \"description\": \"\"\n      }\n    },\n    {\n      \"column\": \"loan\",\n      \"properties\": {\n        \"dtype\": \"category\",\n        \"num_unique_values\": 2,\n        \"samples\": [\n          \"yes\",\n          \"no\"\n        ],\n        \"semantic_type\": \"\",\n        \"description\": \"\"\n      }\n    },\n    {\n      \"column\": \"contact\",\n      \"properties\": {\n        \"dtype\": \"category\",\n        \"num_unique_values\": 3,\n        \"samples\": [\n          \"unknown\",\n          \"cellular\"\n        ],\n        \"semantic_type\": \"\",\n        \"description\": \"\"\n      }\n    },\n    {\n      \"column\": \"day\",\n      \"properties\": {\n        \"dtype\": \"number\",\n        \"std\": 8,\n        \"min\": 1,\n        \"max\": 31,\n        \"num_unique_values\": 31,\n        \"samples\": [\n          1,\n          27\n        ],\n        \"semantic_type\": \"\",\n        \"description\": \"\"\n      }\n    },\n    {\n      \"column\": \"month\",\n      \"properties\": {\n        \"dtype\": \"object\",\n        \"num_unique_values\": 12,\n        \"samples\": [\n          \"apr, 2017\",\n          \"mar, 2017\"\n        ],\n        \"semantic_type\": \"\",\n        \"description\": \"\"\n      }\n    },\n    {\n      \"column\": \"duration\",\n      \"properties\": {\n        \"dtype\": \"category\",\n        \"num_unique_values\": 2646,\n        \"samples\": [\n          \"6.83333333333333 min\",\n          \"905 sec\"\n        ],\n        \"semantic_type\": \"\",\n        \"description\": \"\"\n      }\n    },\n    {\n      \"column\": \"campaign\",\n      \"properties\": {\n        \"dtype\": \"number\",\n        \"std\": 3,\n        \"min\": 1,\n        \"max\": 63,\n        \"num_unique_values\": 48,\n        \"samples\": [\n          41,\n          27\n        ],\n        \"semantic_type\": \"\",\n        \"description\": \"\"\n      }\n    },\n    {\n      \"column\": \"pdays\",\n      \"properties\": {\n        \"dtype\": \"number\",\n        \"std\": 100,\n        \"min\": -1,\n        \"max\": 871,\n        \"num_unique_values\": 559,\n        \"samples\": [\n          249,\n          551\n        ],\n        \"semantic_type\": \"\",\n        \"description\": \"\"\n      }\n    },\n    {\n      \"column\": \"previous\",\n      \"properties\": {\n        \"dtype\": \"number\",\n        \"std\": 2,\n        \"min\": 0,\n        \"max\": 275,\n        \"num_unique_values\": 41,\n        \"samples\": [\n          17,\n          9\n        ],\n        \"semantic_type\": \"\",\n        \"description\": \"\"\n      }\n    },\n    {\n      \"column\": \"poutcome\",\n      \"properties\": {\n        \"dtype\": \"category\",\n        \"num_unique_values\": 4,\n        \"samples\": [\n          \"failure\",\n          \"success\"\n        ],\n        \"semantic_type\": \"\",\n        \"description\": \"\"\n      }\n    },\n    {\n      \"column\": \"response\",\n      \"properties\": {\n        \"dtype\": \"category\",\n        \"num_unique_values\": 2,\n        \"samples\": [\n          \"yes\",\n          \"no\"\n        ],\n        \"semantic_type\": \"\",\n        \"description\": \"\"\n      }\n    }\n  ]\n}"
            }
          },
          "metadata": {},
          "execution_count": 16
        }
      ],
      "source": [
        "#drop the customer id as it is of no use.\n",
        "inp0.drop(columns=['customerid'], inplace=True)\n",
        "\n",
        "# Verify the changes\n",
        "inp0.head()"
      ]
    },
    {
      "cell_type": "markdown",
      "metadata": {
        "id": "FsQXbyPOAO85"
      },
      "source": [
        "#### Dividing \"jobedu\" column into job and education categories."
      ]
    },
    {
      "cell_type": "code",
      "execution_count": null,
      "metadata": {
        "colab": {
          "base_uri": "https://localhost:8080/",
          "height": 206
        },
        "id": "q07EfAJ2AO86",
        "outputId": "a758f98e-f606-497b-edad-31529bc1459b"
      },
      "outputs": [
        {
          "output_type": "execute_result",
          "data": {
            "text/plain": [
              "                   jobedu           job\n",
              "0     management,tertiary    management\n",
              "1    technician,secondary    technician\n",
              "2  entrepreneur,secondary  entrepreneur\n",
              "3     blue-collar,unknown   blue-collar\n",
              "4         unknown,unknown       unknown"
            ],
            "text/html": [
              "\n",
              "  <div id=\"df-222192af-a3e4-4942-a770-33826b6ced16\" class=\"colab-df-container\">\n",
              "    <div>\n",
              "<style scoped>\n",
              "    .dataframe tbody tr th:only-of-type {\n",
              "        vertical-align: middle;\n",
              "    }\n",
              "\n",
              "    .dataframe tbody tr th {\n",
              "        vertical-align: top;\n",
              "    }\n",
              "\n",
              "    .dataframe thead th {\n",
              "        text-align: right;\n",
              "    }\n",
              "</style>\n",
              "<table border=\"1\" class=\"dataframe\">\n",
              "  <thead>\n",
              "    <tr style=\"text-align: right;\">\n",
              "      <th></th>\n",
              "      <th>jobedu</th>\n",
              "      <th>job</th>\n",
              "    </tr>\n",
              "  </thead>\n",
              "  <tbody>\n",
              "    <tr>\n",
              "      <th>0</th>\n",
              "      <td>management,tertiary</td>\n",
              "      <td>management</td>\n",
              "    </tr>\n",
              "    <tr>\n",
              "      <th>1</th>\n",
              "      <td>technician,secondary</td>\n",
              "      <td>technician</td>\n",
              "    </tr>\n",
              "    <tr>\n",
              "      <th>2</th>\n",
              "      <td>entrepreneur,secondary</td>\n",
              "      <td>entrepreneur</td>\n",
              "    </tr>\n",
              "    <tr>\n",
              "      <th>3</th>\n",
              "      <td>blue-collar,unknown</td>\n",
              "      <td>blue-collar</td>\n",
              "    </tr>\n",
              "    <tr>\n",
              "      <th>4</th>\n",
              "      <td>unknown,unknown</td>\n",
              "      <td>unknown</td>\n",
              "    </tr>\n",
              "  </tbody>\n",
              "</table>\n",
              "</div>\n",
              "    <div class=\"colab-df-buttons\">\n",
              "\n",
              "  <div class=\"colab-df-container\">\n",
              "    <button class=\"colab-df-convert\" onclick=\"convertToInteractive('df-222192af-a3e4-4942-a770-33826b6ced16')\"\n",
              "            title=\"Convert this dataframe to an interactive table.\"\n",
              "            style=\"display:none;\">\n",
              "\n",
              "  <svg xmlns=\"http://www.w3.org/2000/svg\" height=\"24px\" viewBox=\"0 -960 960 960\">\n",
              "    <path d=\"M120-120v-720h720v720H120Zm60-500h600v-160H180v160Zm220 220h160v-160H400v160Zm0 220h160v-160H400v160ZM180-400h160v-160H180v160Zm440 0h160v-160H620v160ZM180-180h160v-160H180v160Zm440 0h160v-160H620v160Z\"/>\n",
              "  </svg>\n",
              "    </button>\n",
              "\n",
              "  <style>\n",
              "    .colab-df-container {\n",
              "      display:flex;\n",
              "      gap: 12px;\n",
              "    }\n",
              "\n",
              "    .colab-df-convert {\n",
              "      background-color: #E8F0FE;\n",
              "      border: none;\n",
              "      border-radius: 50%;\n",
              "      cursor: pointer;\n",
              "      display: none;\n",
              "      fill: #1967D2;\n",
              "      height: 32px;\n",
              "      padding: 0 0 0 0;\n",
              "      width: 32px;\n",
              "    }\n",
              "\n",
              "    .colab-df-convert:hover {\n",
              "      background-color: #E2EBFA;\n",
              "      box-shadow: 0px 1px 2px rgba(60, 64, 67, 0.3), 0px 1px 3px 1px rgba(60, 64, 67, 0.15);\n",
              "      fill: #174EA6;\n",
              "    }\n",
              "\n",
              "    .colab-df-buttons div {\n",
              "      margin-bottom: 4px;\n",
              "    }\n",
              "\n",
              "    [theme=dark] .colab-df-convert {\n",
              "      background-color: #3B4455;\n",
              "      fill: #D2E3FC;\n",
              "    }\n",
              "\n",
              "    [theme=dark] .colab-df-convert:hover {\n",
              "      background-color: #434B5C;\n",
              "      box-shadow: 0px 1px 3px 1px rgba(0, 0, 0, 0.15);\n",
              "      filter: drop-shadow(0px 1px 2px rgba(0, 0, 0, 0.3));\n",
              "      fill: #FFFFFF;\n",
              "    }\n",
              "  </style>\n",
              "\n",
              "    <script>\n",
              "      const buttonEl =\n",
              "        document.querySelector('#df-222192af-a3e4-4942-a770-33826b6ced16 button.colab-df-convert');\n",
              "      buttonEl.style.display =\n",
              "        google.colab.kernel.accessAllowed ? 'block' : 'none';\n",
              "\n",
              "      async function convertToInteractive(key) {\n",
              "        const element = document.querySelector('#df-222192af-a3e4-4942-a770-33826b6ced16');\n",
              "        const dataTable =\n",
              "          await google.colab.kernel.invokeFunction('convertToInteractive',\n",
              "                                                    [key], {});\n",
              "        if (!dataTable) return;\n",
              "\n",
              "        const docLinkHtml = 'Like what you see? Visit the ' +\n",
              "          '<a target=\"_blank\" href=https://colab.research.google.com/notebooks/data_table.ipynb>data table notebook</a>'\n",
              "          + ' to learn more about interactive tables.';\n",
              "        element.innerHTML = '';\n",
              "        dataTable['output_type'] = 'display_data';\n",
              "        await google.colab.output.renderOutput(dataTable, element);\n",
              "        const docLink = document.createElement('div');\n",
              "        docLink.innerHTML = docLinkHtml;\n",
              "        element.appendChild(docLink);\n",
              "      }\n",
              "    </script>\n",
              "  </div>\n",
              "\n",
              "\n",
              "<div id=\"df-3595ae15-3f71-4ffe-9abc-471d5c94a954\">\n",
              "  <button class=\"colab-df-quickchart\" onclick=\"quickchart('df-3595ae15-3f71-4ffe-9abc-471d5c94a954')\"\n",
              "            title=\"Suggest charts\"\n",
              "            style=\"display:none;\">\n",
              "\n",
              "<svg xmlns=\"http://www.w3.org/2000/svg\" height=\"24px\"viewBox=\"0 0 24 24\"\n",
              "     width=\"24px\">\n",
              "    <g>\n",
              "        <path d=\"M19 3H5c-1.1 0-2 .9-2 2v14c0 1.1.9 2 2 2h14c1.1 0 2-.9 2-2V5c0-1.1-.9-2-2-2zM9 17H7v-7h2v7zm4 0h-2V7h2v10zm4 0h-2v-4h2v4z\"/>\n",
              "    </g>\n",
              "</svg>\n",
              "  </button>\n",
              "\n",
              "<style>\n",
              "  .colab-df-quickchart {\n",
              "      --bg-color: #E8F0FE;\n",
              "      --fill-color: #1967D2;\n",
              "      --hover-bg-color: #E2EBFA;\n",
              "      --hover-fill-color: #174EA6;\n",
              "      --disabled-fill-color: #AAA;\n",
              "      --disabled-bg-color: #DDD;\n",
              "  }\n",
              "\n",
              "  [theme=dark] .colab-df-quickchart {\n",
              "      --bg-color: #3B4455;\n",
              "      --fill-color: #D2E3FC;\n",
              "      --hover-bg-color: #434B5C;\n",
              "      --hover-fill-color: #FFFFFF;\n",
              "      --disabled-bg-color: #3B4455;\n",
              "      --disabled-fill-color: #666;\n",
              "  }\n",
              "\n",
              "  .colab-df-quickchart {\n",
              "    background-color: var(--bg-color);\n",
              "    border: none;\n",
              "    border-radius: 50%;\n",
              "    cursor: pointer;\n",
              "    display: none;\n",
              "    fill: var(--fill-color);\n",
              "    height: 32px;\n",
              "    padding: 0;\n",
              "    width: 32px;\n",
              "  }\n",
              "\n",
              "  .colab-df-quickchart:hover {\n",
              "    background-color: var(--hover-bg-color);\n",
              "    box-shadow: 0 1px 2px rgba(60, 64, 67, 0.3), 0 1px 3px 1px rgba(60, 64, 67, 0.15);\n",
              "    fill: var(--button-hover-fill-color);\n",
              "  }\n",
              "\n",
              "  .colab-df-quickchart-complete:disabled,\n",
              "  .colab-df-quickchart-complete:disabled:hover {\n",
              "    background-color: var(--disabled-bg-color);\n",
              "    fill: var(--disabled-fill-color);\n",
              "    box-shadow: none;\n",
              "  }\n",
              "\n",
              "  .colab-df-spinner {\n",
              "    border: 2px solid var(--fill-color);\n",
              "    border-color: transparent;\n",
              "    border-bottom-color: var(--fill-color);\n",
              "    animation:\n",
              "      spin 1s steps(1) infinite;\n",
              "  }\n",
              "\n",
              "  @keyframes spin {\n",
              "    0% {\n",
              "      border-color: transparent;\n",
              "      border-bottom-color: var(--fill-color);\n",
              "      border-left-color: var(--fill-color);\n",
              "    }\n",
              "    20% {\n",
              "      border-color: transparent;\n",
              "      border-left-color: var(--fill-color);\n",
              "      border-top-color: var(--fill-color);\n",
              "    }\n",
              "    30% {\n",
              "      border-color: transparent;\n",
              "      border-left-color: var(--fill-color);\n",
              "      border-top-color: var(--fill-color);\n",
              "      border-right-color: var(--fill-color);\n",
              "    }\n",
              "    40% {\n",
              "      border-color: transparent;\n",
              "      border-right-color: var(--fill-color);\n",
              "      border-top-color: var(--fill-color);\n",
              "    }\n",
              "    60% {\n",
              "      border-color: transparent;\n",
              "      border-right-color: var(--fill-color);\n",
              "    }\n",
              "    80% {\n",
              "      border-color: transparent;\n",
              "      border-right-color: var(--fill-color);\n",
              "      border-bottom-color: var(--fill-color);\n",
              "    }\n",
              "    90% {\n",
              "      border-color: transparent;\n",
              "      border-bottom-color: var(--fill-color);\n",
              "    }\n",
              "  }\n",
              "</style>\n",
              "\n",
              "  <script>\n",
              "    async function quickchart(key) {\n",
              "      const quickchartButtonEl =\n",
              "        document.querySelector('#' + key + ' button');\n",
              "      quickchartButtonEl.disabled = true;  // To prevent multiple clicks.\n",
              "      quickchartButtonEl.classList.add('colab-df-spinner');\n",
              "      try {\n",
              "        const charts = await google.colab.kernel.invokeFunction(\n",
              "            'suggestCharts', [key], {});\n",
              "      } catch (error) {\n",
              "        console.error('Error during call to suggestCharts:', error);\n",
              "      }\n",
              "      quickchartButtonEl.classList.remove('colab-df-spinner');\n",
              "      quickchartButtonEl.classList.add('colab-df-quickchart-complete');\n",
              "    }\n",
              "    (() => {\n",
              "      let quickchartButtonEl =\n",
              "        document.querySelector('#df-3595ae15-3f71-4ffe-9abc-471d5c94a954 button');\n",
              "      quickchartButtonEl.style.display =\n",
              "        google.colab.kernel.accessAllowed ? 'block' : 'none';\n",
              "    })();\n",
              "  </script>\n",
              "</div>\n",
              "    </div>\n",
              "  </div>\n"
            ],
            "application/vnd.google.colaboratory.intrinsic+json": {
              "type": "dataframe",
              "summary": "{\n  \"name\": \"inp0[['jobedu', 'job']]\",\n  \"rows\": 5,\n  \"fields\": [\n    {\n      \"column\": \"jobedu\",\n      \"properties\": {\n        \"dtype\": \"string\",\n        \"num_unique_values\": 5,\n        \"samples\": [\n          \"technician,secondary\",\n          \"unknown,unknown\",\n          \"entrepreneur,secondary\"\n        ],\n        \"semantic_type\": \"\",\n        \"description\": \"\"\n      }\n    },\n    {\n      \"column\": \"job\",\n      \"properties\": {\n        \"dtype\": \"string\",\n        \"num_unique_values\": 5,\n        \"samples\": [\n          \"technician\",\n          \"unknown\",\n          \"entrepreneur\"\n        ],\n        \"semantic_type\": \"\",\n        \"description\": \"\"\n      }\n    }\n  ]\n}"
            }
          },
          "metadata": {},
          "execution_count": 17
        }
      ],
      "source": [
        "#Extract job in newly created 'job' column from \"jobedu\" column.\n",
        "inp0['job'] = inp0['jobedu'].apply(lambda x: x.split(',')[0])\n",
        "\n",
        "# Verify the changes\n",
        "inp0[['jobedu', 'job']].head()"
      ]
    },
    {
      "cell_type": "code",
      "execution_count": null,
      "metadata": {
        "id": "dYQCqlfdAO86"
      },
      "outputs": [],
      "source": [
        "#Extract education in newly created 'education' column from \"jobedu\" column.\n",
        "inp0['education']= inp0['jobedu'].apply(lambda x: x.split(',')[1])"
      ]
    },
    {
      "cell_type": "code",
      "execution_count": null,
      "metadata": {
        "id": "BX5Px9RJAO86"
      },
      "outputs": [],
      "source": [
        "#drop the \"jobedu\" column from the dataframe.\n",
        "inp0.drop(columns=['jobedu'], inplace=True)"
      ]
    },
    {
      "cell_type": "markdown",
      "metadata": {
        "id": "65t9t39BAO86"
      },
      "source": [
        "### Segment- 4, Impute/Remove missing values"
      ]
    },
    {
      "cell_type": "markdown",
      "metadata": {
        "id": "qOVi84RNAO86"
      },
      "source": [
        "Take aways from the lecture on missing values:\n",
        "\n",
        "- **Set values as missing values**: Identify values that indicate missing data, for example, treat blank strings, \"NA\", \"XX\", \"999\", etc., as missing.\n",
        "- **Adding is good, exaggerating is bad**: You should try to get information from reliable external sources as much as possible, but if you can’t, then it is better to retain missing values rather than exaggerating the existing rows/columns.\n",
        "- **Delete rows and columns**: Rows can be deleted if the number of missing values is insignificant, as this would not impact the overall analysis results. Columns can be removed if the missing values are quite significant in number.\n",
        "- **Fill partial missing values using business judgement**: Such values include missing time zone, century, etc. These values can be identified easily.\n",
        "\n",
        "Types of missing values:\n",
        "- **MCAR**: It stands for Missing completely at random (the reason behind the missing value is not dependent on any other feature).\n",
        "- **MAR**: It stands for Missing at random (the reason behind the missing value may be associated with some other features).\n",
        "- **MNAR**: It stands for Missing not at random (there is a specific reason behind the missing value).\n"
      ]
    },
    {
      "cell_type": "markdown",
      "metadata": {
        "id": "qeB7IAKUAO86"
      },
      "source": [
        "#### handling missing values in age column."
      ]
    },
    {
      "cell_type": "code",
      "execution_count": null,
      "metadata": {
        "colab": {
          "base_uri": "https://localhost:8080/"
        },
        "id": "-2Erfv-iAO86",
        "outputId": "574ae254-44cd-4281-8e20-6efb8025fe0d"
      },
      "outputs": [
        {
          "output_type": "stream",
          "name": "stdout",
          "text": [
            "The number of missing values in the age column is: 0\n"
          ]
        }
      ],
      "source": [
        "#count the missing values in age column.\n",
        "missing_values_age = inp0['age'].isnull().sum()\n",
        "print(\"The number of missing values in the age column is:\", missing_values_age)"
      ]
    },
    {
      "cell_type": "code",
      "execution_count": null,
      "metadata": {
        "colab": {
          "base_uri": "https://localhost:8080/"
        },
        "id": "Y6b3hYpEAO87",
        "outputId": "97f839e2-57a6-4fa7-f68e-5150747739b8"
      },
      "outputs": [
        {
          "output_type": "stream",
          "name": "stdout",
          "text": [
            "The shape of the dataframe inp0 is: (45211, 19)\n"
          ]
        }
      ],
      "source": [
        "#pring the shape of dataframe inp0\n",
        "print(\"The shape of the dataframe inp0 is:\", inp0.shape)"
      ]
    },
    {
      "cell_type": "code",
      "execution_count": null,
      "metadata": {
        "colab": {
          "base_uri": "https://localhost:8080/"
        },
        "id": "yAFONuenAO87",
        "outputId": "769d2762-5097-4151-c7f0-9e2bd43f2430"
      },
      "outputs": [
        {
          "output_type": "stream",
          "name": "stdout",
          "text": [
            "The percentage of missing values in the age column is: 0.0 %\n"
          ]
        }
      ],
      "source": [
        "#calculate the percentage of missing values in age column.\n",
        "missing_percentage_age = (inp0['age'].isnull().sum() / len(inp0)) * 100\n",
        "print(\"The percentage of missing values in the age column is:\", missing_percentage_age, \"%\")"
      ]
    },
    {
      "cell_type": "markdown",
      "metadata": {
        "id": "djv32ag7AO87"
      },
      "source": [
        "Drop the records with age missing."
      ]
    },
    {
      "cell_type": "code",
      "execution_count": null,
      "metadata": {
        "colab": {
          "base_uri": "https://localhost:8080/"
        },
        "id": "AVp2lFDkAO87",
        "outputId": "86ad047c-64b8-4f9f-d7f9-f7f3a0fc1458"
      },
      "outputs": [
        {
          "output_type": "stream",
          "name": "stdout",
          "text": [
            "The shape of the dataframe inp1 is: (45211, 19)\n"
          ]
        }
      ],
      "source": [
        "#drop the records with age missing in inp0 and copy in inp1 dataframe.\n",
        "inp1 = inp0.dropna(subset=['age']).copy()\n",
        "\n",
        "# Verify the changes by checking the shape of inp1\n",
        "print(\"The shape of the dataframe inp1 is:\", inp1.shape)"
      ]
    },
    {
      "cell_type": "markdown",
      "metadata": {
        "id": "DztgC5y_AO87"
      },
      "source": [
        "#### handling missing values in month column"
      ]
    },
    {
      "cell_type": "code",
      "execution_count": null,
      "metadata": {
        "colab": {
          "base_uri": "https://localhost:8080/"
        },
        "id": "1ZRkVWwqAO87",
        "outputId": "66071840-9746-4521-fc38-905b6b7a698a"
      },
      "outputs": [
        {
          "output_type": "stream",
          "name": "stdout",
          "text": [
            "The number of missing values in the month column in inp1 is: 50\n"
          ]
        }
      ],
      "source": [
        "#count the missing values in month column in inp1.\n",
        "missing_values_month = inp1['month'].isnull().sum()\n",
        "print(\"The number of missing values in the month column in inp1 is:\", missing_values_month)"
      ]
    },
    {
      "cell_type": "code",
      "execution_count": null,
      "metadata": {
        "colab": {
          "base_uri": "https://localhost:8080/"
        },
        "id": "89zm1kYMAO87",
        "outputId": "486a9948-c136-4f8f-85b1-d23dd7903b77"
      },
      "outputs": [
        {
          "output_type": "stream",
          "name": "stdout",
          "text": [
            "The percentage of each month in the dataframe inp1 is:\n",
            "month\n",
            "may, 2017    30.439981\n",
            "jul, 2017    15.252098\n",
            "aug, 2017    13.817232\n",
            "jun, 2017    11.813290\n",
            "nov, 2017     8.786342\n",
            "apr, 2017     6.490113\n",
            "feb, 2017     5.859038\n",
            "jan, 2017     3.104449\n",
            "oct, 2017     1.634153\n",
            "sep, 2017     1.275437\n",
            "mar, 2017     1.054007\n",
            "dec, 2017     0.473860\n",
            "Name: proportion, dtype: float64\n"
          ]
        }
      ],
      "source": [
        "#print the percentage of each month in the data frame inp1.\n",
        "month_percentage = inp1['month'].value_counts(normalize=True) * 100\n",
        "\n",
        "# Print the percentage of each month\n",
        "print(\"The percentage of each month in the dataframe inp1 is:\")\n",
        "print(month_percentage)"
      ]
    },
    {
      "cell_type": "code",
      "execution_count": null,
      "metadata": {
        "colab": {
          "base_uri": "https://localhost:8080/"
        },
        "id": "nGFXBF2RAO88",
        "outputId": "92eddeb4-f60c-435f-e47e-826407dcd259"
      },
      "outputs": [
        {
          "output_type": "stream",
          "name": "stdout",
          "text": [
            "The mode of the month column in inp1 is: may, 2017\n"
          ]
        }
      ],
      "source": [
        "#find the mode of month in inp1\n",
        "mode_month = inp1['month'].mode()[0]\n",
        "print(\"The mode of the month column in inp1 is:\", mode_month)"
      ]
    },
    {
      "cell_type": "code",
      "execution_count": null,
      "metadata": {
        "id": "_uxD0CzvAO9K"
      },
      "outputs": [],
      "source": [
        "# fill the missing values with mode value of month in inp1.\n",
        "inp1['month'].fillna(mode_month, inplace=True)"
      ]
    },
    {
      "cell_type": "code",
      "execution_count": null,
      "metadata": {
        "colab": {
          "base_uri": "https://localhost:8080/"
        },
        "id": "htXLalyQAO9K",
        "outputId": "2bfefc38-0dc9-4933-b9ba-7536b8466235"
      },
      "outputs": [
        {
          "output_type": "stream",
          "name": "stdout",
          "text": [
            "The number of missing values in the month column in inp1 after filling is: 0\n"
          ]
        }
      ],
      "source": [
        "#let's see the null values in the month column.\n",
        "missing_values_month_after_fill = inp1['month'].isnull().sum()\n",
        "print(\"The number of missing values in the month column in inp1 after filling is:\", missing_values_month_after_fill)"
      ]
    },
    {
      "cell_type": "markdown",
      "metadata": {
        "id": "eg_SFYDEAO9K"
      },
      "source": [
        "#### handling missing values in response column"
      ]
    },
    {
      "cell_type": "code",
      "execution_count": null,
      "metadata": {
        "colab": {
          "base_uri": "https://localhost:8080/"
        },
        "id": "f0mXknkFAO9L",
        "outputId": "8b2e6c69-89dc-4dfe-819d-cc187271636c"
      },
      "outputs": [
        {
          "output_type": "stream",
          "name": "stdout",
          "text": [
            "The number of missing values in the response column in inp1 is: 30\n"
          ]
        }
      ],
      "source": [
        "#count the missing values in response column in inp1.\n",
        "missing_values_response = inp1['response'].isnull().sum()\n",
        "print(\"The number of missing values in the response column in inp1 is:\", missing_values_response)"
      ]
    },
    {
      "cell_type": "code",
      "execution_count": null,
      "metadata": {
        "colab": {
          "base_uri": "https://localhost:8080/"
        },
        "id": "gf8ERk7oAO9L",
        "outputId": "ac85fafc-5ab7-480a-b2d2-813ffd75efc5"
      },
      "outputs": [
        {
          "output_type": "stream",
          "name": "stdout",
          "text": [
            "The percentage of missing values in the response column is: 0.0663555329455221 %\n"
          ]
        }
      ],
      "source": [
        "#calculate the percentage of missing values in response column.\n",
        "missing_percentage_response = (inp1['response'].isnull().sum() / len(inp1)) * 100\n",
        "print(\"The percentage of missing values in the response column is:\", missing_percentage_response, \"%\")"
      ]
    },
    {
      "cell_type": "markdown",
      "metadata": {
        "id": "dbzNkcT4AO9L"
      },
      "source": [
        "Target variable is better of not imputed.\n",
        "- Drop the records with missing values."
      ]
    },
    {
      "cell_type": "code",
      "execution_count": null,
      "metadata": {
        "id": "ThckIQRkAO9L"
      },
      "outputs": [],
      "source": [
        "#drop the records with response missings in inp1.\n",
        "inp1 = inp1.dropna(subset=['response']).copy()"
      ]
    },
    {
      "cell_type": "code",
      "execution_count": null,
      "metadata": {
        "colab": {
          "base_uri": "https://localhost:8080/"
        },
        "id": "PUcdSMojAO9L",
        "outputId": "8d04e872-4316-4f9f-c92d-7a6d9b7532cd"
      },
      "outputs": [
        {
          "output_type": "stream",
          "name": "stdout",
          "text": [
            "The number of missing values in each column of inp1 is:\n",
            "age          0\n",
            "salary       0\n",
            "balance      0\n",
            "marital      0\n",
            "targeted     0\n",
            "default      0\n",
            "housing      0\n",
            "loan         0\n",
            "contact      0\n",
            "day          0\n",
            "month        0\n",
            "duration     0\n",
            "campaign     0\n",
            "pdays        0\n",
            "previous     0\n",
            "poutcome     0\n",
            "response     0\n",
            "job          0\n",
            "education    0\n",
            "dtype: int64\n"
          ]
        }
      ],
      "source": [
        "#calculate the missing values in each column of data frame: inp1.\n",
        "missing_values_each_column = inp1.isnull().sum()\n",
        "\n",
        "# Print the number of missing values in each column\n",
        "print(\"The number of missing values in each column of inp1 is:\")\n",
        "print(missing_values_each_column)"
      ]
    },
    {
      "cell_type": "markdown",
      "metadata": {
        "id": "wxOTlGv3AO9L"
      },
      "source": [
        "#### handling pdays column."
      ]
    },
    {
      "cell_type": "code",
      "execution_count": null,
      "metadata": {
        "colab": {
          "base_uri": "https://localhost:8080/"
        },
        "id": "cy7RR8Q7AO9L",
        "outputId": "743d89a2-b1a3-4cd1-b5a8-1439b5f0bc02"
      },
      "outputs": [
        {
          "output_type": "stream",
          "name": "stdout",
          "text": [
            "Description of the pdays column in inp1:\n",
            "count    45181.000000\n",
            "mean        40.198601\n",
            "std        100.134050\n",
            "min         -1.000000\n",
            "25%         -1.000000\n",
            "50%         -1.000000\n",
            "75%         -1.000000\n",
            "max        871.000000\n",
            "Name: pdays, dtype: float64\n"
          ]
        }
      ],
      "source": [
        "#describe the pdays column of inp1.\n",
        "pdays_description = inp1['pdays'].describe()\n",
        "\n",
        "# Print the description of the pdays column\n",
        "print(\"Description of the pdays column in inp1:\")\n",
        "print(pdays_description)"
      ]
    },
    {
      "cell_type": "markdown",
      "metadata": {
        "id": "MpBqZBcoAO9L"
      },
      "source": [
        "-1 indicates the missing values.\n",
        "Missing value does not always be present as null.\n",
        "How to handle it:\n",
        "\n",
        "Objective is:\n",
        "- you should ignore the missing values in the calculations\n",
        "- simply make it missing - replace -1 with NaN.\n",
        "- all summary statistics- mean, median etc. we will ignore the missing values of pdays."
      ]
    },
    {
      "cell_type": "code",
      "execution_count": null,
      "metadata": {
        "colab": {
          "base_uri": "https://localhost:8080/"
        },
        "id": "jyq15pYkAO9L",
        "outputId": "27ba40fa-d1c8-4f38-b153-0daac2b8cae1"
      },
      "outputs": [
        {
          "output_type": "stream",
          "name": "stdout",
          "text": [
            "Description of the pdays column in inp1 excluding -1 values:\n",
            "count    8251.000000\n",
            "mean      224.596170\n",
            "std       115.352191\n",
            "min         1.000000\n",
            "25%       133.000000\n",
            "50%       195.000000\n",
            "75%       327.000000\n",
            "max       871.000000\n",
            "Name: pdays, dtype: float64\n"
          ]
        }
      ],
      "source": [
        "#describe the pdays column with considering the -1 values.\n",
        "inp1['pdays'] = pd.to_numeric(inp1['pdays'], errors='coerce')\n",
        "\n",
        "# Filter out the -1 values from the pdays column\n",
        "pdays_filtered = inp1[inp1['pdays'] != -1]['pdays']\n",
        "\n",
        "# Describe the pdays column excluding the -1 values\n",
        "pdays_description_filtered = pdays_filtered.describe()\n",
        "\n",
        "# Print the description of the pdays column excluding the -1 values\n",
        "print(\"Description of the pdays column in inp1 excluding -1 values:\")\n",
        "print(pdays_description_filtered)"
      ]
    },
    {
      "cell_type": "markdown",
      "metadata": {
        "id": "S-Yt90vAAO9M"
      },
      "source": [
        "### Segment- 5, Handling Outliers"
      ]
    },
    {
      "cell_type": "markdown",
      "metadata": {
        "id": "xpzmZ06LAO9M"
      },
      "source": [
        "Major approaches to the treat outliers:\n",
        "\n",
        "- **Imputation**\n",
        "- **Deletion of outliers**\n",
        "- **Binning of values**\n",
        "- **Cap the outlier**\n"
      ]
    },
    {
      "cell_type": "markdown",
      "metadata": {
        "id": "V2WZ3TSuAO9M"
      },
      "source": [
        "#### Age variable"
      ]
    },
    {
      "cell_type": "code",
      "execution_count": null,
      "metadata": {
        "colab": {
          "base_uri": "https://localhost:8080/"
        },
        "id": "2tPWS6VoAO9M",
        "outputId": "5026acee-5d35-49ac-b127-204bd8b511c7"
      },
      "outputs": [
        {
          "output_type": "stream",
          "name": "stdout",
          "text": [
            "Description of the age variable in inp1:\n",
            "count    45181.000000\n",
            "mean        40.934906\n",
            "std         10.616517\n",
            "min         18.000000\n",
            "25%         33.000000\n",
            "50%         39.000000\n",
            "75%         48.000000\n",
            "max         95.000000\n",
            "Name: age, dtype: float64\n"
          ]
        }
      ],
      "source": [
        "#describe the age variable in inp1.\n",
        "age_description = inp1['age'].describe()\n",
        "\n",
        "# Print the description of the age variable\n",
        "print(\"Description of the age variable in inp1:\")\n",
        "print(age_description)"
      ]
    },
    {
      "cell_type": "code",
      "execution_count": null,
      "metadata": {
        "colab": {
          "base_uri": "https://localhost:8080/",
          "height": 564
        },
        "id": "Zmt_k-G_AO9M",
        "outputId": "1944425b-805f-46ea-90ee-c8098849cc69"
      },
      "outputs": [
        {
          "output_type": "display_data",
          "data": {
            "text/plain": [
              "<Figure size 1000x600 with 1 Axes>"
            ],
            "image/png": "[encoded data removed]"
          },
          "metadata": {}
        }
      ],
      "source": [
        "#plot the histogram of age variable.\n",
        "plt.figure(figsize=(10, 6))\n",
        "plt.hist(inp1['age'], bins=20, edgecolor='k', alpha=0.7)\n",
        "plt.title('Histogram of Age')\n",
        "plt.xlabel('Age')\n",
        "plt.ylabel('Frequency')\n",
        "plt.grid(True)\n",
        "plt.show()"
      ]
    },
    {
      "cell_type": "code",
      "execution_count": null,
      "metadata": {
        "colab": {
          "base_uri": "https://localhost:8080/",
          "height": 564
        },
        "id": "ZwQ7hzq4AO9M",
        "outputId": "b521ec06-e964-4106-fe67-cf0cfd7fb47a"
      },
      "outputs": [
        {
          "output_type": "display_data",
          "data": {
            "text/plain": [
              "<Figure size 1000x600 with 1 Axes>"
            ],
            "image/png": "[encoded data removed]"
          },
          "metadata": {}
        }
      ],
      "source": [
        "#plot the boxplot of age variable.\n",
        "plt.figure(figsize=(10, 6))\n",
        "sns.boxplot(x=inp1['age'])\n",
        "plt.title('Boxplot of Age')\n",
        "plt.xlabel('Age')\n",
        "plt.grid(True)\n",
        "plt.show()"
      ]
    },
    {
      "cell_type": "markdown",
      "metadata": {
        "id": "05BcbHMtAO9M"
      },
      "source": [
        "#### Salary variable"
      ]
    },
    {
      "cell_type": "code",
      "execution_count": null,
      "metadata": {
        "colab": {
          "base_uri": "https://localhost:8080/"
        },
        "id": "_Af9Cu98AO9M",
        "outputId": "e4703d0c-5b0a-4578-dcb7-60457c99fc9c"
      },
      "outputs": [
        {
          "output_type": "stream",
          "name": "stdout",
          "text": [
            "Description of the salary variable in inp1:\n",
            "count     45181.000000\n",
            "mean      57005.046369\n",
            "std       32089.163369\n",
            "min           0.000000\n",
            "25%       20000.000000\n",
            "50%       60000.000000\n",
            "75%       70000.000000\n",
            "max      120000.000000\n",
            "Name: salary, dtype: float64\n"
          ]
        }
      ],
      "source": [
        "#describe the salary variable of inp1.\n",
        "salary_description = inp1['salary'].describe()\n",
        "\n",
        "# Print the description of the salary variable\n",
        "print(\"Description of the salary variable in inp1:\")\n",
        "print(salary_description)"
      ]
    },
    {
      "cell_type": "code",
      "execution_count": null,
      "metadata": {
        "colab": {
          "base_uri": "https://localhost:8080/",
          "height": 564
        },
        "id": "BM-_RPr0AO9N",
        "outputId": "e933cab7-d091-45fa-ad77-0802c15dd4d7"
      },
      "outputs": [
        {
          "output_type": "display_data",
          "data": {
            "text/plain": [
              "<Figure size 1000x600 with 1 Axes>"
            ],
            "image/png": "[encoded data removed]"
          },
          "metadata": {}
        }
      ],
      "source": [
        "#plot the boxplot of salary variable.\n",
        "plt.figure(figsize=(10, 6))\n",
        "sns.boxplot(x=inp1['salary'])\n",
        "plt.title('Boxplot of Salary')\n",
        "plt.xlabel('Salary')\n",
        "plt.grid(True)\n",
        "plt.show()"
      ]
    },
    {
      "cell_type": "markdown",
      "metadata": {
        "id": "Dm5CBmNRAO9N"
      },
      "source": [
        "#### Balance variable"
      ]
    },
    {
      "cell_type": "code",
      "execution_count": null,
      "metadata": {
        "colab": {
          "base_uri": "https://localhost:8080/"
        },
        "id": "RLFPNG7-AO9N",
        "outputId": "9d475f76-04a6-4ebd-cb6d-ff2f3cc9fb2f"
      },
      "outputs": [
        {
          "output_type": "stream",
          "name": "stdout",
          "text": [
            "Description of the balance variable in inp1:\n",
            "count     45181.000000\n",
            "mean       1362.689936\n",
            "std        3045.584521\n",
            "min       -8019.000000\n",
            "25%          72.000000\n",
            "50%         448.000000\n",
            "75%        1428.000000\n",
            "max      102127.000000\n",
            "Name: balance, dtype: float64\n"
          ]
        }
      ],
      "source": [
        "#describe the balance variable of inp1.\n",
        "balance_description = inp1['balance'].describe()\n",
        "\n",
        "# Print the description of the balance variable\n",
        "print(\"Description of the balance variable in inp1:\")\n",
        "print(balance_description)"
      ]
    },
    {
      "cell_type": "code",
      "execution_count": null,
      "metadata": {
        "colab": {
          "base_uri": "https://localhost:8080/",
          "height": 564
        },
        "id": "_L0v9CzNAO9N",
        "outputId": "bdedf73b-4f20-4e4c-daaa-93c9738f2f69"
      },
      "outputs": [
        {
          "output_type": "display_data",
          "data": {
            "text/plain": [
              "<Figure size 1000x600 with 1 Axes>"
            ],
            "image/png": "[encoded data removed]"
          },
          "metadata": {}
        }
      ],
      "source": [
        "#plot the boxplot of balance variable.\n",
        "plt.figure(figsize=(10, 6))\n",
        "sns.boxplot(x=inp1['balance'])\n",
        "plt.title('Boxplot of Balance')\n",
        "plt.xlabel('Balance')\n",
        "plt.grid(True)\n",
        "plt.show()"
      ]
    },
    {
      "cell_type": "code",
      "execution_count": null,
      "metadata": {
        "colab": {
          "base_uri": "https://localhost:8080/",
          "height": 564
        },
        "id": "zBBdFCncAO9N",
        "outputId": "5db1bf28-6961-459e-aef0-4234bcc7e1e9"
      },
      "outputs": [
        {
          "output_type": "display_data",
          "data": {
            "text/plain": [
              "<Figure size 1000x600 with 1 Axes>"
            ],
            "image/png": "[encoded data removed]"
          },
          "metadata": {}
        }
      ],
      "source": [
        "#plot the boxplot of balance variable after scaling in 8:2.\n",
        "from sklearn.preprocessing import MinMaxScaler\n",
        "scaler = MinMaxScaler(feature_range=(0.8, 2.0))\n",
        "inp1['balance_scaled'] = scaler.fit_transform(inp1[['balance']])\n",
        "\n",
        "# Plot the boxplot of the scaled balance variable\n",
        "plt.figure(figsize=(10, 6))\n",
        "sns.boxplot(x=inp1['balance_scaled'])\n",
        "plt.title('Boxplot of Scaled Balance')\n",
        "plt.xlabel('Scaled Balance')\n",
        "plt.grid(True)\n",
        "plt.show()"
      ]
    },
    {
      "cell_type": "code",
      "execution_count": null,
      "metadata": {
        "colab": {
          "base_uri": "https://localhost:8080/"
        },
        "id": "ROMPRhknAO9N",
        "outputId": "ed1ebfdd-93fb-4b06-fb21-b34356133be5"
      },
      "outputs": [
        {
          "output_type": "stream",
          "name": "stdout",
          "text": [
            "Quantiles of the balance variable:\n",
            "0.50      448.0\n",
            "0.70     1126.0\n",
            "0.90     3575.0\n",
            "0.95     5769.0\n",
            "0.99    13169.2\n",
            "Name: balance, dtype: float64\n"
          ]
        }
      ],
      "source": [
        "#print the quantile (0.5, 0.7, 0.9, 0.95 and 0.99) of balance variable\n",
        "quantiles = inp1['balance'].quantile([0.5, 0.7, 0.9, 0.95, 0.99])\n",
        "\n",
        "# Print the quantiles of the balance variable\n",
        "print(\"Quantiles of the balance variable:\")\n",
        "print(quantiles)"
      ]
    },
    {
      "cell_type": "markdown",
      "metadata": {
        "id": "CDWKoC_bAO9N"
      },
      "source": [
        "### Segment- 6, Standardising values"
      ]
    },
    {
      "cell_type": "markdown",
      "metadata": {
        "id": "1CVbh9_nAO9N"
      },
      "source": [
        "Checklist for data standardization exercises:\n",
        "- **Standardise units**: Ensure all observations under one variable are expressed in a common and consistent unit, e.g., convert lbs to kg, miles/hr to km/hr, etc.\n",
        "- **Scale values if required**: Make sure all the observations under one variable have a common scale.\n",
        "- **Standardise precision** for better presentation of data, e.g., change 4.5312341 kg to 4.53 kg.\n",
        "- **Remove extra characters** such as common prefixes/suffixes, leading/trailing/multiple spaces, etc. These are irrelevant to analysis.\n",
        "- **Standardise case**: String variables may take various casing styles, e.g., UPPERCASE, lowercase, Title Case, Sentence case, etc.\n",
        "- **Standardise format**: It is important to standardise the format of other elements such as date, name, etce.g., change 23/10/16 to 2016/10/23, “Modi, Narendra” to “Narendra Modi\", etc."
      ]
    },
    {
      "cell_type": "markdown",
      "metadata": {
        "id": "fj9mG7tvAO9N"
      },
      "source": [
        "#### Duration variable"
      ]
    },
    {
      "cell_type": "code",
      "execution_count": null,
      "metadata": {
        "colab": {
          "base_uri": "https://localhost:8080/"
        },
        "id": "QShc90YaAO9N",
        "outputId": "0e4dfc53-530f-4214-fdbf-7e3c7b52f442"
      },
      "outputs": [
        {
          "output_type": "stream",
          "name": "stdout",
          "text": [
            "Description of the duration variable in inp1:\n",
            "count       45181\n",
            "unique       2646\n",
            "top       1.5 min\n",
            "freq          138\n",
            "Name: duration, dtype: object\n"
          ]
        }
      ],
      "source": [
        "\n",
        "# Describe the duration variable in inp1\n",
        "duration_description = inp1['duration'].describe()\n",
        "\n",
        "# Print the description of the duration variable\n",
        "print(\"Description of the duration variable in inp1:\")\n",
        "print(duration_description)"
      ]
    },
    {
      "cell_type": "code",
      "execution_count": null,
      "metadata": {
        "colab": {
          "base_uri": "https://localhost:8080/"
        },
        "id": "x6FF4fI4AO9N",
        "outputId": "6a7b37a4-56d1-405c-e1e0-bff32d3deb8d"
      },
      "outputs": [
        {
          "output_type": "stream",
          "name": "stdout",
          "text": [
            "First few rows of the duration column after conversion to minutes:\n",
            "   duration\n",
            "0  4.350000\n",
            "1  2.516667\n",
            "2  1.266667\n",
            "3  1.533333\n",
            "4  3.300000\n"
          ]
        }
      ],
      "source": [
        "#convert the duration variable into single unit i.e. minutes. and remove the sec or min prefix.\n",
        "# Function to convert duration to minutes\n",
        "def convert_to_minutes(duration):\n",
        "    if ' sec' in duration:\n",
        "        return float(duration.replace(' sec', '')) / 60\n",
        "    elif ' min' in duration:\n",
        "        return float(duration.replace(' min', ''))\n",
        "    else:\n",
        "        return float(duration)  # assuming it's already in minutes if no suffix\n",
        "\n",
        "# Apply the function to the duration column\n",
        "inp1['duration'] = inp1['duration'].apply(convert_to_minutes)\n",
        "\n",
        "# Print the first few rows to verify the changes\n",
        "print(\"First few rows of the duration column after conversion to minutes:\")\n",
        "print(inp1[['duration']].head())"
      ]
    },
    {
      "cell_type": "code",
      "execution_count": null,
      "metadata": {
        "colab": {
          "base_uri": "https://localhost:8080/"
        },
        "id": "8FKHPkAHAO9N",
        "outputId": "4a2d88a9-be96-4681-a68b-8393b35e8c08"
      },
      "outputs": [
        {
          "output_type": "stream",
          "name": "stdout",
          "text": [
            "Description of the duration variable in inp1:\n",
            "count    45181.000000\n",
            "mean         4.302462\n",
            "std          4.292520\n",
            "min          0.000000\n",
            "25%          1.716667\n",
            "50%          3.000000\n",
            "75%          5.316667\n",
            "max         81.966667\n",
            "Name: duration, dtype: float64\n"
          ]
        }
      ],
      "source": [
        "#describe the duration variable\n",
        "duration_description = inp1['duration'].describe()\n",
        "\n",
        "# Print the description of the duration variable\n",
        "print(\"Description of the duration variable in inp1:\")\n",
        "print(duration_description)"
      ]
    },
    {
      "cell_type": "markdown",
      "metadata": {
        "id": "rMeH5cEyAO9O"
      },
      "source": [
        "## Session- 3, Univariate Analysis"
      ]
    },
    {
      "cell_type": "markdown",
      "metadata": {
        "id": "ELbqlTRzAO9O"
      },
      "source": [
        "### Segment- 2, Categorical unordered univariate analysis"
      ]
    },
    {
      "cell_type": "markdown",
      "metadata": {
        "id": "elcp6fKqAO9O"
      },
      "source": [
        "Unordered data do not have the notion of high-low, more-less etc. Example:\n",
        "- Type of loan taken by a person = home, personal, auto etc.\n",
        "- Organisation of a person = Sales, marketing, HR etc.\n",
        "- Job category of persone.\n",
        "- Marital status of any one.\n"
      ]
    },
    {
      "cell_type": "markdown",
      "metadata": {
        "id": "i6BlKkdNAO9O"
      },
      "source": [
        "#### Marital status"
      ]
    },
    {
      "cell_type": "code",
      "execution_count": null,
      "metadata": {
        "colab": {
          "base_uri": "https://localhost:8080/"
        },
        "id": "RLzLVI7PAO9O",
        "outputId": "6f11f98a-fdac-47b6-eaf9-cf42a7c8e468"
      },
      "outputs": [
        {
          "output_type": "stream",
          "name": "stdout",
          "text": [
            "maritall status percentage : marital\n",
            "married     60.191231\n",
            "single      28.290653\n",
            "divorced    11.518116\n",
            "Name: proportion, dtype: float64\n"
          ]
        }
      ],
      "source": [
        "#calculate the percentage of each marital status category.\n",
        "marital_status_percentage = inp1['marital'].value_counts(normalize=True) * 100\n",
        "print('maritall status percentage :', marital_status_percentage)"
      ]
    },
    {
      "cell_type": "code",
      "execution_count": null,
      "metadata": {
        "colab": {
          "base_uri": "https://localhost:8080/",
          "height": 610
        },
        "id": "g3fjzTU-AO9O",
        "outputId": "9caff22e-84ed-4195-c238-e880c50cbc06"
      },
      "outputs": [
        {
          "output_type": "display_data",
          "data": {
            "text/plain": [
              "<Figure size 1000x600 with 1 Axes>"
            ],
            "image/png": "[encoded data removed]"
          },
          "metadata": {}
        }
      ],
      "source": [
        "#plot the bar graph of percentage marital status categories\n",
        "plt.figure(figsize=(10, 6))\n",
        "marital_status_percentage.plot(kind='bar', color='skyblue', edgecolor='k')\n",
        "plt.title('Percentage of Marital Status Categories')\n",
        "plt.xlabel('Marital Status')\n",
        "plt.ylabel('Percentage')\n",
        "plt.grid(axis='y')\n",
        "plt.show()"
      ]
    },
    {
      "cell_type": "markdown",
      "metadata": {
        "id": "YwX7tnsCAO9O"
      },
      "source": [
        "#### Job  "
      ]
    },
    {
      "cell_type": "code",
      "execution_count": null,
      "metadata": {
        "colab": {
          "base_uri": "https://localhost:8080/"
        },
        "id": "0RETn7dWAO9O",
        "outputId": "a3bb23da-3fd7-48c6-8b6f-063b5621c1e7"
      },
      "outputs": [
        {
          "output_type": "stream",
          "name": "stdout",
          "text": [
            "Percentage of each job status category in inp1:\n",
            "job\n",
            "blue-collar      21.528961\n",
            "management       20.924725\n",
            "technician       16.803524\n",
            "admin.           11.434010\n",
            "services          9.185277\n",
            "retired           5.008743\n",
            "self-employed     3.485979\n",
            "entrepreneur      3.288993\n",
            "unemployed        2.883956\n",
            "housemaid         2.742303\n",
            "student           2.076094\n",
            "unknown           0.637436\n",
            "Name: proportion, dtype: float64\n"
          ]
        }
      ],
      "source": [
        "#calculate the percentage of each job status category.\n",
        "job_status_percentage = inp1['job'].value_counts(normalize=True) * 100\n",
        "\n",
        "# Print the percentage of each job status category\n",
        "print(\"Percentage of each job status category in inp1:\")\n",
        "print(job_status_percentage)"
      ]
    },
    {
      "cell_type": "code",
      "execution_count": null,
      "metadata": {
        "colab": {
          "base_uri": "https://localhost:8080/",
          "height": 783
        },
        "id": "bfzGbAonAO9O",
        "outputId": "c03ee46a-66dc-4e17-f450-52af3300227f"
      },
      "outputs": [
        {
          "output_type": "display_data",
          "data": {
            "text/plain": [
              "<Figure size 1200x800 with 1 Axes>"
            ],
            "image/png": "[encoded data removed]"
          },
          "metadata": {}
        }
      ],
      "source": [
        "#plot the bar graph of percentage job categories\n",
        "plt.figure(figsize=(12, 8))\n",
        "job_status_percentage.plot(kind='bar', color='lightblue', edgecolor='k')\n",
        "plt.title('Percentage of Job Status Categories')\n",
        "plt.xlabel('Job Status')\n",
        "plt.ylabel('Percentage')\n",
        "plt.grid(axis='y')\n",
        "plt.xticks(rotation=45)\n",
        "plt.show()"
      ]
    },
    {
      "cell_type": "markdown",
      "metadata": {
        "id": "FnlvimGlAO9O"
      },
      "source": [
        "### Segment- 3, Categorical ordered univariate analysis"
      ]
    },
    {
      "cell_type": "markdown",
      "metadata": {
        "id": "r9w_QyvwAO9O"
      },
      "source": [
        "Ordered variables have some kind of ordering. Some examples of bank marketing dataset are:\n",
        "- Age group= <30, 30-40, 40-50 and so on.\n",
        "- Month = Jan-Feb-Mar etc.\n",
        "- Education = primary, secondary and so on."
      ]
    },
    {
      "cell_type": "markdown",
      "metadata": {
        "id": "vFtqk12wAO9P"
      },
      "source": [
        "#### Education"
      ]
    },
    {
      "cell_type": "code",
      "execution_count": null,
      "metadata": {
        "colab": {
          "base_uri": "https://localhost:8080/"
        },
        "id": "DZDYe6ifAO9P",
        "outputId": "62bbc138-1dbc-4605-e4d1-877e1250dc51"
      },
      "outputs": [
        {
          "output_type": "stream",
          "name": "stdout",
          "text": [
            "Percentage of each education category in inp1:\n",
            "education\n",
            "secondary    51.324672\n",
            "tertiary     29.419446\n",
            "primary      15.147960\n",
            "unknown       4.107921\n",
            "Name: proportion, dtype: float64\n"
          ]
        }
      ],
      "source": [
        "#calculate the percentage of each education category.\n",
        "education_percentage = inp1['education'].value_counts(normalize=True) * 100\n",
        "\n",
        "# Print the percentage of each education category\n",
        "print(\"Percentage of each education category in inp1:\")\n",
        "print(education_percentage)"
      ]
    },
    {
      "cell_type": "code",
      "execution_count": null,
      "metadata": {
        "colab": {
          "base_uri": "https://localhost:8080/",
          "height": 675
        },
        "id": "n_jssfcBAO9P",
        "outputId": "738d5059-3f1d-4b33-ec38-15cafc4fc3fd"
      },
      "outputs": [
        {
          "output_type": "display_data",
          "data": {
            "text/plain": [
              "<Figure size 1000x800 with 1 Axes>"
            ],
            "image/png": "[encoded data removed]"
          },
          "metadata": {}
        }
      ],
      "source": [
        "#plot the pie chart of education categories\n",
        "plt.figure(figsize=(10, 8))\n",
        "education_percentage.plot(kind='pie', autopct='%1.1f%%', startangle=140, colors=plt.cm.Paired.colors)\n",
        "plt.title('Percentage of Education Categories')\n",
        "plt.ylabel('')  # Hide the y-label\n",
        "plt.show()"
      ]
    },
    {
      "cell_type": "markdown",
      "metadata": {
        "id": "BqSZ42waAO9P"
      },
      "source": [
        "#### poutcome"
      ]
    },
    {
      "cell_type": "code",
      "execution_count": null,
      "metadata": {
        "colab": {
          "base_uri": "https://localhost:8080/"
        },
        "id": "GshU02OAAO9P",
        "outputId": "1ae2de66-e1c9-455c-8c8e-949796b88abe"
      },
      "outputs": [
        {
          "output_type": "stream",
          "name": "stdout",
          "text": [
            "Percentage of each poutcome category in inp1:\n",
            "poutcome\n",
            "unknown    81.748965\n",
            "failure    10.838627\n",
            "other       4.070295\n",
            "success     3.342113\n",
            "Name: proportion, dtype: float64\n"
          ]
        }
      ],
      "source": [
        "#calculate the percentage of each poutcome category.\n",
        "poutcome_percentage = inp1['poutcome'].value_counts(normalize=True) * 100\n",
        "\n",
        "# Print the percentage of each poutcome category\n",
        "print(\"Percentage of each poutcome category in inp1:\")\n",
        "print(poutcome_percentage)"
      ]
    },
    {
      "cell_type": "markdown",
      "metadata": {
        "id": "UPV2aoYnAO9P"
      },
      "source": [
        "#### Response the target variable"
      ]
    },
    {
      "cell_type": "code",
      "execution_count": null,
      "metadata": {
        "colab": {
          "base_uri": "https://localhost:8080/"
        },
        "id": "Nij8q1-yAO9P",
        "outputId": "24acc3bc-59f9-496d-9311-0e1b8943ef9b"
      },
      "outputs": [
        {
          "output_type": "stream",
          "name": "stdout",
          "text": [
            "Percentage of each response category in inp1:\n",
            "response\n",
            "no     88.298178\n",
            "yes    11.701822\n",
            "Name: proportion, dtype: float64\n"
          ]
        }
      ],
      "source": [
        "#calculate the percentage of each response category.\n",
        "response_percentage = inp1['response'].value_counts(normalize=True) * 100\n",
        "\n",
        "# Print the percentage of each response category\n",
        "print(\"Percentage of each response category in inp1:\")\n",
        "print(response_percentage)"
      ]
    },
    {
      "cell_type": "code",
      "execution_count": null,
      "metadata": {
        "colab": {
          "base_uri": "https://localhost:8080/",
          "height": 675
        },
        "id": "GjggwnvRAO9P",
        "outputId": "d1744b34-f81a-43fe-bff7-6c54eb57884b"
      },
      "outputs": [
        {
          "output_type": "display_data",
          "data": {
            "text/plain": [
              "<Figure size 800x800 with 1 Axes>"
            ],
            "image/png": "[encoded data removed]"
          },
          "metadata": {}
        }
      ],
      "source": [
        "#plot the pie chart of response categories\n",
        "plt.figure(figsize=(8, 8))\n",
        "response_percentage.plot(kind='pie', autopct='%1.1f%%', startangle=140, colors=plt.cm.Paired.colors)\n",
        "plt.title('Percentage of Response Categories')\n",
        "plt.ylabel('')  # Hide the y-label\n",
        "plt.show()"
      ]
    },
    {
      "cell_type": "markdown",
      "metadata": {
        "id": "R9npNyTrAO9P"
      },
      "source": [
        "## Session- 4, Bivariate and Multivariate Analysis"
      ]
    },
    {
      "cell_type": "markdown",
      "metadata": {
        "id": "X2EfglFhAO9P"
      },
      "source": [
        "### Segment-2, Numeric- numeric analysis"
      ]
    },
    {
      "cell_type": "markdown",
      "metadata": {
        "id": "eEVHd_ciAO9S"
      },
      "source": [
        "There are three ways to analyse the numeric- numeric data types simultaneously.\n",
        "- **Scatter plot**: describes the pattern that how one variable is varying with other variable.\n",
        "- **Correlation matrix**: to describe the linearity of two numeric variables.\n",
        "- **Pair plot**: group of scatter plots of all numeric variables in the data frame."
      ]
    },
    {
      "cell_type": "code",
      "execution_count": null,
      "metadata": {
        "colab": {
          "base_uri": "https://localhost:8080/",
          "height": 564
        },
        "id": "wAZ_QzxpAO9S",
        "outputId": "bddf97aa-5908-4eba-f3be-a61c791d2ad4"
      },
      "outputs": [
        {
          "output_type": "display_data",
          "data": {
            "text/plain": [
              "<Figure size 1000x600 with 1 Axes>"
            ],
            "image/png": "[encoded data removed]"
          },
          "metadata": {}
        }
      ],
      "source": [
        "#plot the scatter plot of balance and salary variable in inp1\n",
        "plt.figure(figsize=(10, 6))\n",
        "plt.scatter(inp1['balance'], inp1['salary'], alpha=0.5, edgecolor='k')\n",
        "plt.title('Scatter Plot of Balance and Salary')\n",
        "plt.xlabel('Balance')\n",
        "plt.ylabel('Salary')\n",
        "plt.grid(True)\n",
        "plt.show()"
      ]
    },
    {
      "cell_type": "code",
      "execution_count": null,
      "metadata": {
        "id": "-wILci5RAO9S"
      },
      "outputs": [],
      "source": [
        "#plot the scatter plot of balance and age variable in inp1\n"
      ]
    },
    {
      "cell_type": "code",
      "execution_count": null,
      "metadata": {
        "id": "ElzKo2AzAO9S"
      },
      "outputs": [],
      "source": [
        "#plot the pair plot of salary, balance and age in inp1 dataframe.\n",
        "plt.figure(figsize=(10, 6))\n",
        "plt.scatter(inp1['balance'], inp1['age'], alpha=0.5, edgecolor='k')\n",
        "plt.title('Scatter Plot of Balance and Age')\n",
        "plt.xlabel('Balance')\n",
        "plt.ylabel('Age')\n",
        "plt.grid(True)\n",
        "plt.show()"
      ]
    },
    {
      "cell_type": "markdown",
      "metadata": {
        "id": "I7DKc2fhAO9S"
      },
      "source": [
        "#### Correlation heat map"
      ]
    },
    {
      "cell_type": "code",
      "execution_count": null,
      "metadata": {
        "id": "f6B-mQtcAO9S"
      },
      "outputs": [],
      "source": [
        "#plot the correlation matrix of salary, balance and age in inp1 dataframe.\n",
        "correlation_data = inp1[['salary', 'balance', 'age']]\n",
        "\n",
        "# Calculate the correlation matrix\n",
        "correlation_matrix = correlation_data.corr()\n",
        "\n",
        "# Plot the correlation matrix\n",
        "plt.figure(figsize=(10, 8))\n",
        "sns.heatmap(correlation_matrix, annot=True, cmap='coolwarm', fmt='.2f')\n",
        "plt.title('Correlation Matrix of Salary, Balance, and Age')\n",
        "plt.show()"
      ]
    },
    {
      "cell_type": "markdown",
      "metadata": {
        "id": "RXbdwvSGAO9S"
      },
      "source": [
        "### Segment- 4, Numerical categorical variable"
      ]
    },
    {
      "cell_type": "markdown",
      "metadata": {
        "id": "4caMxDrMAO9S"
      },
      "source": [
        "#### Salary vs response"
      ]
    },
    {
      "cell_type": "code",
      "execution_count": null,
      "metadata": {
        "id": "w9rMAMz_AO9T"
      },
      "outputs": [],
      "source": [
        "#groupby the response to find the mean of the salary with response no & yes seperatly.\n",
        "mean_salary_by_response = inp1.groupby('response')['salary'].mean()\n",
        "\n",
        "# Print the mean salary for each response category\n",
        "print(\"Mean salary for each response category:\")\n",
        "print(mean_salary_by_response)"
      ]
    },
    {
      "cell_type": "code",
      "execution_count": null,
      "metadata": {
        "id": "GR_rVnLqAO9T"
      },
      "outputs": [],
      "source": [
        "#groupby the response to find the median of the salary with response no & yes seperatly.\n",
        "median_salary_by_response = inp1.groupby('response')['salary'].median()\n",
        "\n",
        "# Print the median salary for each response category\n",
        "print(\"Median salary for each response category:\")\n",
        "print(median_salary_by_response)"
      ]
    },
    {
      "cell_type": "code",
      "execution_count": null,
      "metadata": {
        "id": "5OAjGSUoAO9T"
      },
      "outputs": [],
      "source": [
        "#plot the box plot of salary for yes & no responses.\n",
        "plt.figure(figsize=(10, 6))\n",
        "sns.boxplot(x='response', y='salary', data=inp1)\n",
        "plt.title('Box Plot of Salary for Yes & No Responses')\n",
        "plt.xlabel('Response')\n",
        "plt.ylabel('Salary')\n",
        "plt.grid(True)\n",
        "plt.show()"
      ]
    },
    {
      "cell_type": "markdown",
      "metadata": {
        "id": "Cet7DmczAO9T"
      },
      "source": [
        "#### Balance vs response"
      ]
    },
    {
      "cell_type": "code",
      "execution_count": null,
      "metadata": {
        "id": "3RbKD51ZAO9T"
      },
      "outputs": [],
      "source": [
        "#plot the box plot of balance for yes & no responses.\n",
        "plt.title('Box Plot of Balance for Yes & No Responses')\n",
        "plt.xlabel('Response')\n",
        "plt.ylabel('Balance')\n",
        "plt.grid(True)\n",
        "plt.show()"
      ]
    },
    {
      "cell_type": "code",
      "execution_count": null,
      "metadata": {
        "id": "-COZGMbaAO9T"
      },
      "outputs": [],
      "source": [
        "#groupby the response to find the mean of the balance with response no & yes seperatly.\n",
        "mean_balance_by_response = inp1.groupby('response')['balance'].mean()\n",
        "\n",
        "# Print the mean balance for each response category\n",
        "print(\"Mean balance for each response category:\")\n",
        "print(mean_balance_by_response)"
      ]
    },
    {
      "cell_type": "code",
      "execution_count": null,
      "metadata": {
        "id": "DrPCdAKRAO9T"
      },
      "outputs": [],
      "source": [
        "#groupby the response to find the median of the balance with response no & yes seperatly.\n",
        "median_balance_by_response = inp1.groupby('response')['balance'].median()\n",
        "\n",
        "# Print the median balance for each response category\n",
        "print(\"Median balance for each response category:\")\n",
        "print(median_balance_by_response)"
      ]
    },
    {
      "cell_type": "markdown",
      "metadata": {
        "id": "GXvUeLI7AO9T"
      },
      "source": [
        "##### 75th percentile"
      ]
    },
    {
      "cell_type": "code",
      "execution_count": null,
      "metadata": {
        "id": "u1M182R2AO9T"
      },
      "outputs": [],
      "source": [
        "#function to find the 75th percentile.\n",
        "def p75(x):\n",
        "    return np.quantile(x, 0.75)"
      ]
    },
    {
      "cell_type": "code",
      "execution_count": null,
      "metadata": {
        "id": "302rD1kBAO9T"
      },
      "outputs": [],
      "source": [
        "#calculate the mean, median and 75th percentile of balance with response\n",
        "balance_stats_by_response = inp1.groupby('response')['balance'].agg(['mean', 'median', p75])\n",
        "\n",
        "# Print the mean, median, and 75th percentile balance for each response category\n",
        "print(\"Mean, Median, and 75th percentile balance for each response category:\")\n",
        "print(balance_stats_by_response)"
      ]
    },
    {
      "cell_type": "code",
      "execution_count": null,
      "metadata": {
        "id": "uVcncqh3AO9T"
      },
      "outputs": [],
      "source": [
        "#plot the bar graph of balance's mean an median with response.\n",
        "balance_stats_by_response = inp1.groupby('response')['balance'].agg(['mean', 'median'])\n",
        "\n",
        "# Plot the bar graph\n",
        "balance_stats_by_response.plot(kind='bar', figsize=(10, 6))\n",
        "plt.title(\"Mean and Median of Balance by Response\")\n",
        "plt.xlabel(\"Response\")\n",
        "plt.ylabel(\"Balance\")\n",
        "plt.xticks(rotation=0)\n",
        "plt.legend(title=\"Statistic\")\n",
        "plt.grid(axis='y')\n",
        "plt.show()"
      ]
    },
    {
      "cell_type": "markdown",
      "metadata": {
        "id": "fGfQJ97GAO9U"
      },
      "source": [
        "#### Education vs salary"
      ]
    },
    {
      "cell_type": "code",
      "execution_count": null,
      "metadata": {
        "id": "iwhn3xg1AO9U"
      },
      "outputs": [],
      "source": [
        "#groupby the education to find the mean of the salary education category.\n",
        "mean_salary_by_education = inp1.groupby('education')['salary'].mean()\n",
        "\n",
        "# Print the mean salary for each education category\n",
        "print(\"Mean salary for each education category:\")\n",
        "print(mean_salary_by_education)"
      ]
    },
    {
      "cell_type": "code",
      "execution_count": null,
      "metadata": {
        "id": "uf7_xV6hAO9U"
      },
      "outputs": [],
      "source": [
        "#groupby the education to find the median of the salary for each education category.\n",
        "median_salary_by_education = inp1.groupby('education')['salary'].median()\n",
        "\n",
        "# Print the median salary for each education category\n",
        "print(\"Median salary for each education category:\")\n",
        "print(median_salary_by_education)"
      ]
    },
    {
      "cell_type": "markdown",
      "metadata": {
        "id": "47mFlQeOAO9U"
      },
      "source": [
        "#### Job vs salary"
      ]
    },
    {
      "cell_type": "code",
      "execution_count": null,
      "metadata": {
        "id": "s_1THpkqAO9U"
      },
      "outputs": [],
      "source": [
        "#groupby the job to find the mean of the salary for each job category.\n",
        "mean_salary_by_job = inp1.groupby('job')['salary'].mean()\n",
        "\n",
        "# Print the mean salary for each job category\n",
        "print(\"Mean salary for each job category:\")\n",
        "print(mean_salary_by_job)"
      ]
    },
    {
      "cell_type": "markdown",
      "metadata": {
        "id": "uA-nJEzxAO9U"
      },
      "source": [
        "### Segment- 5, Categorical categorical variable"
      ]
    },
    {
      "cell_type": "code",
      "execution_count": null,
      "metadata": {
        "id": "fGms9M3yAO9U"
      },
      "outputs": [],
      "source": [
        "#create response_flag of numerical data type where response \"yes\"= 1, \"no\"= 0\n",
        "inp1['response_flag'] = inp1['response'].apply(lambda x: 1 if x == 'yes' else 0)\n",
        "\n",
        "# Ensure the response_flag column is of numerical data type\n",
        "inp1['response_flag'] = inp1['response_flag'].astype(int)\n",
        "\n",
        "# Print the first few rows to verify the changes\n",
        "print(inp1[['response', 'response_flag']].head())"
      ]
    },
    {
      "cell_type": "markdown",
      "metadata": {
        "id": "OAwBg4LZAO9W"
      },
      "source": [
        "#### Education vs response rate"
      ]
    },
    {
      "cell_type": "code",
      "execution_count": null,
      "metadata": {
        "id": "9IrYvFkgAO9X"
      },
      "outputs": [],
      "source": [
        "#calculate the mean of response_flag with different education categories.\n",
        "mean_response_flag_by_education = inp1.groupby('education')['response_flag'].mean()\n",
        "\n",
        "# Print the mean response_flag for each education category\n",
        "print(\"Mean response_flag for each education category:\")\n",
        "print(mean_response_flag_by_education)"
      ]
    },
    {
      "cell_type": "markdown",
      "metadata": {
        "id": "nFxuQnI1AO9X"
      },
      "source": [
        "#### Marital vs response rate"
      ]
    },
    {
      "cell_type": "code",
      "execution_count": null,
      "metadata": {
        "id": "n8DsJYN7AO9X"
      },
      "outputs": [],
      "source": [
        "#calculate the mean of response_flag with different marital status categories.\n",
        "mean_response_flag_by_marital = inp1.groupby('marital')['response_flag'].mean()\n",
        "\n",
        "# Print the mean response_flag for each marital status category\n",
        "print(\"Mean response_flag for each marital status category:\")\n",
        "print(mean_response_flag_by_marital)"
      ]
    },
    {
      "cell_type": "code",
      "execution_count": null,
      "metadata": {
        "id": "mqNQvJ2MAO9X"
      },
      "outputs": [],
      "source": [
        "#plot the bar graph of marital status with average value of response_flag\n",
        "mean_response_flag_by_marital = inp1.groupby('marital')['response_flag'].mean()\n",
        "\n",
        "# Plot the bar graph\n",
        "plt.figure(figsize=(10, 6))\n",
        "mean_response_flag_by_marital.plot(kind='bar', color='skyblue', edgecolor='k')\n",
        "plt.title('Average Value of Response Flag by Marital Status')\n",
        "plt.xlabel('Marital Status')\n",
        "plt.ylabel('Average Response Flag')\n",
        "plt.grid(axis='y')\n",
        "plt.xticks(rotation=0)\n",
        "plt.show()"
      ]
    },
    {
      "cell_type": "markdown",
      "metadata": {
        "id": "qXxDqO9-AO9X"
      },
      "source": [
        "#### Loans vs response rate"
      ]
    },
    {
      "cell_type": "code",
      "execution_count": null,
      "metadata": {
        "id": "L_W2dH9BAO9X"
      },
      "outputs": [],
      "source": [
        "#plot the bar graph of personal loan status with average value of response_flag\n",
        "mean_response_flag_by_loan = inp1.groupby('loan')['response_flag'].mean()\n",
        "\n",
        "# Plot the bar graph\n",
        "plt.figure(figsize=(10, 6))\n",
        "mean_response_flag_by_loan.plot(kind='bar', color='lightcoral', edgecolor='k')\n",
        "plt.title('Average Value of Response Flag by Personal Loan Status')\n",
        "plt.xlabel('Personal Loan Status')\n",
        "plt.ylabel('Average Response Flag')\n",
        "plt.grid(axis='y')\n",
        "plt.xticks(rotation=0)\n",
        "plt.show()"
      ]
    },
    {
      "cell_type": "markdown",
      "metadata": {
        "id": "b9vPgS0xAO9X"
      },
      "source": [
        "#### Housing loans vs response rate"
      ]
    },
    {
      "cell_type": "code",
      "execution_count": null,
      "metadata": {
        "id": "nYxBKrfaAO9X"
      },
      "outputs": [],
      "source": [
        "#plot the bar graph of housing loan status with average value of response_flag\n",
        "mean_response_flag_by_housing = inp1.groupby('housing')['response_flag'].mean()\n",
        "\n",
        "# Plot the bar graph\n",
        "plt.figure(figsize=(10, 6))\n",
        "mean_response_flag_by_housing.plot(kind='bar', color='lightgreen', edgecolor='k')\n",
        "plt.title('Average Value of Response Flag by Housing Loan Status')\n",
        "plt.xlabel('Housing Loan Status')\n",
        "plt.ylabel('Average Response Flag')\n",
        "plt.grid(axis='y')\n",
        "plt.xticks(rotation=0)\n",
        "plt.show()"
      ]
    },
    {
      "cell_type": "markdown",
      "metadata": {
        "id": "io_263OPAO9Y"
      },
      "source": [
        "#### Age vs response"
      ]
    },
    {
      "cell_type": "code",
      "execution_count": null,
      "metadata": {
        "id": "AUYmxBFmAO9Y"
      },
      "outputs": [],
      "source": [
        "#plot the boxplot of age with response_flag\n",
        "plt.figure(figsize=(10, 6))\n",
        "sns.boxplot(x='response_flag', y='age', data=inp1)\n",
        "plt.title('Boxplot of Age with Response Flag')\n",
        "plt.xlabel('Response Flag')\n",
        "plt.ylabel('Age')\n",
        "plt.grid(True)\n",
        "plt.show()"
      ]
    },
    {
      "cell_type": "markdown",
      "metadata": {
        "id": "kjc8NG12AO9Y"
      },
      "source": [
        "##### making buckets from age columns"
      ]
    },
    {
      "cell_type": "code",
      "execution_count": null,
      "metadata": {
        "id": "k9XhG7rwAO9Y"
      },
      "outputs": [],
      "source": [
        "bins = [0, 30, 40, 50, 60, np.inf]\n",
        "labels = ['<30', '30-40', '40-50', '50-60', '60+']\n",
        "\n",
        "# Create the age buckets\n",
        "inp1['age_bucket'] = pd.cut(inp1['age'], bins=bins, labels=labels, right=False)\n",
        "\n",
        "# Print the first few rows to verify the changes\n",
        "print(inp1[['age', 'age_bucket']].head())"
      ]
    },
    {
      "cell_type": "code",
      "execution_count": null,
      "metadata": {
        "id": "QxmDudW3AO9Y"
      },
      "outputs": [],
      "source": [
        "#plot the percentage of each buckets and average values of response_flag in each buckets. plot in subplots.\n",
        "mean_response_flag_by_marital = inp1.groupby('marital')['response_flag'].mean()\n",
        "\n",
        "# Plot the bar graph\n",
        "plt.figure(figsize=(10, 6))\n",
        "mean_response_flag_by_marital.plot(kind='bar', color='skyblue', edgecolor='k')\n",
        "plt.title('Average Value of Response Flag by Marital Status')\n",
        "plt.xlabel('Marital Status')\n",
        "plt.ylabel('Average Response Flag')\n",
        "plt.grid(axis='y')\n",
        "plt.xticks(rotation=0)\n",
        "plt.show()"
      ]
    },
    {
      "cell_type": "code",
      "execution_count": null,
      "metadata": {
        "id": "vX4YGObOAO9Y"
      },
      "outputs": [],
      "source": [
        "#plot the bar graph of job categories with response_flag mean value.\n",
        "mean_response_flag_by_job = inp1.groupby('job')['response_flag'].mean()\n",
        "\n",
        "# Plot the bar graph\n",
        "plt.figure(figsize=(12, 8))\n",
        "mean_response_flag_by_job.plot(kind='bar', color='lightblue', edgecolor='k')\n",
        "plt.title('Average Value of Response Flag by Job Category')\n",
        "plt.xlabel('Job Category')\n",
        "plt.ylabel('Average Response Flag')\n",
        "plt.grid(axis='y')\n",
        "plt.xticks(rotation=45)\n",
        "plt.show()"
      ]
    },
    {
      "cell_type": "markdown",
      "metadata": {
        "id": "uwyORia4AO9Y"
      },
      "source": [
        "### Segment-6, Multivariate analysis"
      ]
    },
    {
      "cell_type": "markdown",
      "metadata": {
        "id": "TWQl85fLAO9Y"
      },
      "source": [
        "#### Education vs marital vs response"
      ]
    },
    {
      "cell_type": "code",
      "execution_count": null,
      "metadata": {
        "id": "PfoubD_HAO9Z"
      },
      "outputs": [],
      "source": [
        "heatmap_data = inp1.pivot_table(values='response_flag', index='education', columns='marital', aggfunc='mean')\n",
        "\n",
        "# Plot the heat map\n",
        "plt.figure(figsize=(12, 8))\n",
        "sns.heatmap(heatmap_data, annot=True, cmap='coolwarm', fmt=\".2f\")\n",
        "plt.title('Heat Map of Education vs Marital Status vs Response Flag')\n",
        "plt.xlabel('Marital Status')\n",
        "plt.ylabel('Education')\n",
        "plt.show()"
      ]
    },
    {
      "cell_type": "markdown",
      "metadata": {
        "id": "pDKNeRfPAO9Z"
      },
      "source": [
        "#### Job vs marital vs response"
      ]
    },
    {
      "cell_type": "code",
      "execution_count": null,
      "metadata": {
        "id": "NtSRQls_AO9Z"
      },
      "outputs": [],
      "source": [
        "#create the heat map of Job vs marital vs response_flag.\n",
        "heatmap_data = inp1.pivot_table(values='response_flag', index='job', columns='marital', aggfunc='mean')\n",
        "\n",
        "# Plot the heat map\n",
        "plt.figure(figsize=(14, 10))\n",
        "sns.heatmap(heatmap_data, annot=True, cmap='coolwarm', fmt=\".2f\")\n",
        "plt.title('Heat Map of Job vs Marital Status vs Response Flag')\n",
        "plt.xlabel('Marital Status')\n",
        "plt.ylabel('Job')\n",
        "plt.show()"
      ]
    },
    {
      "cell_type": "markdown",
      "metadata": {
        "id": "nx97XKCbAO9Z"
      },
      "source": [
        "#### Education vs poutcome vs response"
      ]
    },
    {
      "cell_type": "code",
      "execution_count": null,
      "metadata": {
        "id": "DiiYO24rAO9Z"
      },
      "outputs": [],
      "source": [
        "#create the heat map of education vs poutcome vs response_flag.\n",
        "heatmap_data = inp1.pivot_table(values='response_flag', index='education', columns='poutcome', aggfunc='mean')\n",
        "\n",
        "# Plot the heat map\n",
        "plt.figure(figsize=(12, 8))\n",
        "sns.heatmap(heatmap_data, annot=True, cmap='coolwarm', fmt=\".2f\")\n",
        "plt.title('Heat Map of Education vs Poutcome vs Response Flag')\n",
        "plt.xlabel('Poutcome')\n",
        "plt.ylabel('Education')\n",
        "plt.show()"
      ]
    }
  ],
  "metadata": {
    "kernelspec": {
      "display_name": "Python 3 (ipykernel)",
      "language": "python",
      "name": "python3"
    },
    "language_info": {
      "codemirror_mode": {
        "name": "ipython",
        "version": 3
      },
      "file_extension": ".py",
      "mimetype": "text/x-python",
      "name": "python",
      "nbconvert_exporter": "python",
      "pygments_lexer": "ipython3",
      "version": "3.11.4"
    },
    "colab": {
      "provenance": []
    }
  },
  "nbformat": 4,
  "nbformat_minor": 0
}